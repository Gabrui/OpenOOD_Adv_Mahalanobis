{
 "cells": [
  {
   "cell_type": "code",
   "execution_count": 1,
   "id": "48be8e90-ed96-4461-8e12-1bc438adf663",
   "metadata": {},
   "outputs": [],
   "source": [
    "import os\n",
    "from tqdm import tqdm\n",
    "import numpy as np\n",
    "import torch\n",
    "from torch.utils.data import DataLoader\n",
    "import foolbox as fb\n",
    "from captum.attr import IntegratedGradients\n",
    "from openood.evaluation_api.datasets import DATA_INFO\n",
    "from openood.evaluation_api.preprocessor import get_default_preprocessor, default_preprocessing_dict\n",
    "from openood.datasets.imglist_dataset import ImglistDataset\n",
    "from openood.networks import ResNet18_32x32, ResNet18_224x224"
   ]
  },
  {
   "cell_type": "code",
   "execution_count": 2,
   "id": "cbd06a48-c834-494d-874f-e712591549d3",
   "metadata": {},
   "outputs": [],
   "source": [
    "def get_dataloader(id_name, data_root = 'data/', split = 'test'):\n",
    "    preprocessor = get_default_preprocessor(id_name)\n",
    "    test_standard_preprocessor = get_default_preprocessor(id_name)\n",
    "    data_info = DATA_INFO[id_name]\n",
    "    norm = default_preprocessing_dict[id_name]['normalization']\n",
    "    dataset = ImglistDataset(\n",
    "        name='_'.join((id_name, split)),\n",
    "        imglist_pth=os.path.join(data_root,\n",
    "                                 data_info['id'][split]['imglist_path']),\n",
    "        data_dir=os.path.join(data_root,\n",
    "                              data_info['id'][split]['data_dir']),\n",
    "        num_classes=data_info['num_classes'],\n",
    "        preprocessor=preprocessor,\n",
    "        data_aux_preprocessor=test_standard_preprocessor)\n",
    "    dataloader = DataLoader(dataset, batch_size=64 if 'net' in id_name else 200,shuffle=False, num_workers=8)\n",
    "    mean, std = [torch.tensor(n, device='cuda').reshape(-1, 1, 1) for n in norm]\n",
    "    return dataloader, (mean, std)\n",
    "\n",
    "def get_nets(id_name, data_root='results/'):\n",
    "    NUM_CLASSES = {'cifar10': 10, 'cifar100': 100, 'imagenet200': 200}\n",
    "    MODEL = {\n",
    "        'cifar10': ResNet18_32x32,\n",
    "        'cifar100': ResNet18_32x32,\n",
    "        'imagenet200': ResNet18_224x224,\n",
    "    }\n",
    "    names = {'cifar10': 'cifar10_resnet18_32x32_base_e100_lr0.1_default',\n",
    "         'cifar100': 'cifar100_resnet18_32x32_base_e100_lr0.1_default',\n",
    "         'imagenet200': 'imagenet200_resnet18_224x224_base_e90_lr0.1_default'}\n",
    "    nets = []\n",
    "    for i in range(3):\n",
    "        net = MODEL[id_name](num_classes=NUM_CLASSES[id_name]) #ResNet18_32x32(num_classes=10)\n",
    "        net.load_state_dict(torch.load(os.path.join(f'{data_root}{names[id_name]}/s{i}/', 'best.ckpt'), map_location='cpu'))\n",
    "        net.cuda()\n",
    "        net.eval()\n",
    "        nets.append(net)\n",
    "    return nets\n",
    "\n",
    "def get_fb_model(net, mean, std):\n",
    "    bounds = (((0-mean)/std).min().item(), ((1-mean)/std).max().item())\n",
    "    return fb.PyTorchModel(net, bounds=bounds)\n",
    "\n",
    "def get_advs(dataloader, fmodel, attack, mean, std, eps=0.3):\n",
    "    full_advs = []\n",
    "    for data_dict in tqdm(dataloader):\n",
    "        x, y = data_dict['data'].cuda(), data_dict['label'].cuda()\n",
    "        raw, advs, success = attack(fmodel, x, y, epsilons=eps)\n",
    "        #print(success.sum())\n",
    "        all_success = torch.stack([torch.logical_and(n(x).argmax(1) == y, n(advs).argmax(1) != y) for n in nets]).sum(0) == 3\n",
    "        #print(all_success.sum())\n",
    "        full_advs.append(((advs[all_success]*std + mean)*255).to('cpu', torch.uint8))\n",
    "    return torch.concatenate(full_advs).permute(0, 2, 3, 1).numpy()\n",
    "\n",
    "def integrated_gradient_method(net, input_image, rate = 0.7, minmax=(0, 1)):\n",
    "    img = input_image.clone()\n",
    "    integrated_grad = IntegratedGradients(net)\n",
    "    baseline = torch.zeros_like(img)\n",
    "    initial_class = get_output_class(net, img)\n",
    "    pred_class = initial_class\n",
    "    while initial_class == pred_class:\n",
    "        net.zero_grad()\n",
    "        ig_result = integrated_grad.attribute(img, target=initial_class, baselines=baseline)\n",
    "        amax = np.unravel_index(ig_result.argmax().item(), ig_result.shape)\n",
    "        img[amax] = img[amax] * rate\n",
    "        pred_class = get_output_class(net, img)\n",
    "    return img"
   ]
  },
  {
   "cell_type": "code",
   "execution_count": 3,
   "id": "91bc654a-2b2d-4bc5-a954-a32eb93f99b5",
   "metadata": {
    "tags": []
   },
   "outputs": [],
   "source": [
    "import eagerpy as ep\n",
    "from foolbox.attacks.base import get_criterion\n",
    "from foolbox.attacks.base import raise_if_kwargs\n",
    "from foolbox.attacks.base import verify_input_bounds\n",
    "from foolbox.criteria import Misclassification, TargetedMisclassification\n",
    "\n",
    "class IGM(fb.attacks.LinfProjectedGradientDescentAttack):\n",
    "    def __init__(\n",
    "        self,\n",
    "        *,\n",
    "        rel_stepsize: float = 0.01 / 0.3,\n",
    "        abs_stepsize = None,\n",
    "        steps: int = 10,\n",
    "        random_start: bool = True,\n",
    "    ):\n",
    "        super().__init__(\n",
    "            rel_stepsize=rel_stepsize,\n",
    "            abs_stepsize=abs_stepsize,\n",
    "            steps=steps,\n",
    "            random_start=random_start,\n",
    "        )\n",
    "    #https://github.com/bethgelab/foolbox/blob/master/foolbox/attacks/gradient_descent_base.py\n",
    "    def run(\n",
    "        self,\n",
    "        model,\n",
    "        inputs,\n",
    "        criterion ,\n",
    "        *,\n",
    "        epsilon: float,\n",
    "        **kwargs,\n",
    "    ):\n",
    "        raise_if_kwargs(kwargs)\n",
    "        x0, restore_type = ep.astensor_(inputs)\n",
    "        criterion_ = get_criterion(criterion)\n",
    "        del inputs, criterion, kwargs\n",
    "\n",
    "        verify_input_bounds(x0, model)\n",
    "\n",
    "        # perform a gradient ascent (targeted attack) or descent (untargeted attack)\n",
    "        if isinstance(criterion_, Misclassification):\n",
    "            gradient_step_sign = 1.0\n",
    "            classes = criterion_.labels\n",
    "        elif hasattr(criterion_, \"target_classes\"):\n",
    "            gradient_step_sign = -1.0\n",
    "            classes = criterion_.target_classes\n",
    "        else:\n",
    "            raise ValueError(\"unsupported criterion\")\n",
    "            \n",
    "        # MOD HERE\n",
    "        nint = 8\n",
    "        scales_int = torch.linspace(0, 1, nint, device='cuda').reshape(-1, 1, 1, 1, 1)\n",
    "        classes = ep.astensor(classes.raw.repeat(nint))\n",
    "        ##\n",
    "        loss_fn = self.get_loss_fn(model, classes)\n",
    "\n",
    "        if self.abs_stepsize is None:\n",
    "            stepsize = self.rel_stepsize * epsilon\n",
    "        else:\n",
    "            stepsize = self.abs_stepsize\n",
    "\n",
    "        optimizer = self.get_optimizer(x0, stepsize)\n",
    "\n",
    "        if self.random_start:\n",
    "            x = self.get_random_start(x0, epsilon)\n",
    "            x = ep.clip(x, *model.bounds)\n",
    "        else:\n",
    "            x = x0\n",
    "\n",
    "        for _ in range(self.steps):\n",
    "            x_exp = (scales_int * x).flatten(0, 1)                       # MOD HERE\n",
    "            _, gradients = self.value_and_grad(loss_fn, x_exp)\n",
    "            gradients = ep.astensor(gradients.raw.unflatten(0, (nint, -1)).sum(0) / nint) # MOD HERE\n",
    "            gradients = self.normalize(gradients, x=x, bounds=model.bounds)\n",
    "            x = x + gradient_step_sign * optimizer(gradients)\n",
    "            x = self.project(x, x0, epsilon)\n",
    "            x = ep.clip(x, *model.bounds)\n",
    "\n",
    "        return restore_type(x)"
   ]
  },
  {
   "cell_type": "code",
   "execution_count": 4,
   "id": "1ab8809f-1d29-406f-8c5f-197e6327f68f",
   "metadata": {
    "tags": []
   },
   "outputs": [],
   "source": [
    "attacks = {\n",
    "    'fgsm': fb.attacks.FGSM(),\n",
    "    'pgd': fb.attacks.PGD(),\n",
    "    'igm': IGM(),\n",
    "    'iter': fb.attacks.LinfBasicIterativeAttack()\n",
    "}"
   ]
  },
  {
   "cell_type": "code",
   "execution_count": 90,
   "id": "906c47e2-def1-4550-a2be-ad55ca566335",
   "metadata": {
    "collapsed": true,
    "jupyter": {
     "outputs_hidden": true
    },
    "tags": []
   },
   "outputs": [
    {
     "name": "stdout",
     "output_type": "stream",
     "text": [
      "EVALUATING IN cifar10, attack: igm\n"
     ]
    },
    {
     "name": "stderr",
     "output_type": "stream",
     "text": [
      "  0%|                                                                                                          | 0/45 [00:00<?, ?it/s]\n"
     ]
    },
    {
     "ename": "AttributeError",
     "evalue": "'PyTorchTensor' object has no attribute 'repeat'",
     "output_type": "error",
     "traceback": [
      "\u001b[0;31m---------------------------------------------------------------------------\u001b[0m",
      "\u001b[0;31mAttributeError\u001b[0m                            Traceback (most recent call last)",
      "Cell \u001b[0;32mIn[90], line 7\u001b[0m\n\u001b[1;32m      5\u001b[0m nets \u001b[38;5;241m=\u001b[39m get_nets(id_name)\n\u001b[1;32m      6\u001b[0m fmodel \u001b[38;5;241m=\u001b[39m get_fb_model(nets[\u001b[38;5;241m0\u001b[39m], \u001b[38;5;241m*\u001b[39mmean_std)\n\u001b[0;32m----> 7\u001b[0m advs \u001b[38;5;241m=\u001b[39m \u001b[43mget_advs\u001b[49m\u001b[43m(\u001b[49m\u001b[43mdataloader\u001b[49m\u001b[43m,\u001b[49m\u001b[43m \u001b[49m\u001b[43mfmodel\u001b[49m\u001b[43m,\u001b[49m\u001b[43m \u001b[49m\u001b[43mattack\u001b[49m\u001b[43m,\u001b[49m\u001b[43m \u001b[49m\u001b[38;5;241;43m*\u001b[39;49m\u001b[43mmean_std\u001b[49m\u001b[43m)\u001b[49m\n\u001b[1;32m      8\u001b[0m np\u001b[38;5;241m.\u001b[39msave(\u001b[38;5;124mf\u001b[39m\u001b[38;5;124m'\u001b[39m\u001b[38;5;124mdata/benchmark_imglist/\u001b[39m\u001b[38;5;132;01m{\u001b[39;00mid_name\u001b[38;5;132;01m}\u001b[39;00m\u001b[38;5;124m/\u001b[39m\u001b[38;5;132;01m{\u001b[39;00mattack_name\u001b[38;5;132;01m}\u001b[39;00m\u001b[38;5;124m.npy\u001b[39m\u001b[38;5;124m'\u001b[39m, advs)\n",
      "Cell \u001b[0;32mIn[5], line 46\u001b[0m, in \u001b[0;36mget_advs\u001b[0;34m(dataloader, fmodel, attack, mean, std, eps)\u001b[0m\n\u001b[1;32m     44\u001b[0m \u001b[38;5;28;01mfor\u001b[39;00m data_dict \u001b[38;5;129;01min\u001b[39;00m tqdm(dataloader):\n\u001b[1;32m     45\u001b[0m     x, y \u001b[38;5;241m=\u001b[39m data_dict[\u001b[38;5;124m'\u001b[39m\u001b[38;5;124mdata\u001b[39m\u001b[38;5;124m'\u001b[39m]\u001b[38;5;241m.\u001b[39mcuda(), data_dict[\u001b[38;5;124m'\u001b[39m\u001b[38;5;124mlabel\u001b[39m\u001b[38;5;124m'\u001b[39m]\u001b[38;5;241m.\u001b[39mcuda()\n\u001b[0;32m---> 46\u001b[0m     raw, advs, success \u001b[38;5;241m=\u001b[39m \u001b[43mattack\u001b[49m\u001b[43m(\u001b[49m\u001b[43mfmodel\u001b[49m\u001b[43m,\u001b[49m\u001b[43m \u001b[49m\u001b[43mx\u001b[49m\u001b[43m,\u001b[49m\u001b[43m \u001b[49m\u001b[43my\u001b[49m\u001b[43m,\u001b[49m\u001b[43m \u001b[49m\u001b[43mepsilons\u001b[49m\u001b[38;5;241;43m=\u001b[39;49m\u001b[43meps\u001b[49m\u001b[43m)\u001b[49m\n\u001b[1;32m     47\u001b[0m     \u001b[38;5;28mprint\u001b[39m(success\u001b[38;5;241m.\u001b[39msum())\n\u001b[1;32m     48\u001b[0m     all_success \u001b[38;5;241m=\u001b[39m torch\u001b[38;5;241m.\u001b[39mstack([torch\u001b[38;5;241m.\u001b[39mlogical_and(n(x)\u001b[38;5;241m.\u001b[39margmax(\u001b[38;5;241m1\u001b[39m) \u001b[38;5;241m==\u001b[39m y, n(advs)\u001b[38;5;241m.\u001b[39margmax(\u001b[38;5;241m1\u001b[39m) \u001b[38;5;241m!=\u001b[39m y) \u001b[38;5;28;01mfor\u001b[39;00m n \u001b[38;5;129;01min\u001b[39;00m nets])\u001b[38;5;241m.\u001b[39msum(\u001b[38;5;241m0\u001b[39m) \u001b[38;5;241m==\u001b[39m \u001b[38;5;241m3\u001b[39m\n",
      "File \u001b[0;32m~/.pyenv/versions/3.10.12/lib/python3.10/site-packages/foolbox/attacks/base.py:283\u001b[0m, in \u001b[0;36mFixedEpsilonAttack.__call__\u001b[0;34m(***failed resolving arguments***)\u001b[0m\n\u001b[1;32m    281\u001b[0m success \u001b[38;5;241m=\u001b[39m []\n\u001b[1;32m    282\u001b[0m \u001b[38;5;28;01mfor\u001b[39;00m epsilon \u001b[38;5;129;01min\u001b[39;00m real_epsilons:\n\u001b[0;32m--> 283\u001b[0m     xp \u001b[38;5;241m=\u001b[39m \u001b[38;5;28;43mself\u001b[39;49m\u001b[38;5;241;43m.\u001b[39;49m\u001b[43mrun\u001b[49m\u001b[43m(\u001b[49m\u001b[43mmodel\u001b[49m\u001b[43m,\u001b[49m\u001b[43m \u001b[49m\u001b[43mx\u001b[49m\u001b[43m,\u001b[49m\u001b[43m \u001b[49m\u001b[43mcriterion\u001b[49m\u001b[43m,\u001b[49m\u001b[43m \u001b[49m\u001b[43mepsilon\u001b[49m\u001b[38;5;241;43m=\u001b[39;49m\u001b[43mepsilon\u001b[49m\u001b[43m,\u001b[49m\u001b[43m \u001b[49m\u001b[38;5;241;43m*\u001b[39;49m\u001b[38;5;241;43m*\u001b[39;49m\u001b[43mkwargs\u001b[49m\u001b[43m)\u001b[49m\n\u001b[1;32m    285\u001b[0m     \u001b[38;5;66;03m# clip to epsilon because we don't really know what the attack returns;\u001b[39;00m\n\u001b[1;32m    286\u001b[0m     \u001b[38;5;66;03m# alternatively, we could check if the perturbation is at most epsilon,\u001b[39;00m\n\u001b[1;32m    287\u001b[0m     \u001b[38;5;66;03m# but then we would need to handle numerical violations;\u001b[39;00m\n\u001b[1;32m    288\u001b[0m     xpc \u001b[38;5;241m=\u001b[39m \u001b[38;5;28mself\u001b[39m\u001b[38;5;241m.\u001b[39mdistance\u001b[38;5;241m.\u001b[39mclip_perturbation(x, xp, epsilon)\n",
      "Cell \u001b[0;32mIn[87], line 52\u001b[0m, in \u001b[0;36mIGM.run\u001b[0;34m(***failed resolving arguments***)\u001b[0m\n\u001b[1;32m     50\u001b[0m nint \u001b[38;5;241m=\u001b[39m \u001b[38;5;241m8\u001b[39m\n\u001b[1;32m     51\u001b[0m scales_int \u001b[38;5;241m=\u001b[39m torch\u001b[38;5;241m.\u001b[39mlinspace(\u001b[38;5;241m0\u001b[39m, \u001b[38;5;241m1\u001b[39m, nint, device\u001b[38;5;241m=\u001b[39m\u001b[38;5;124m'\u001b[39m\u001b[38;5;124mcuda\u001b[39m\u001b[38;5;124m'\u001b[39m)\u001b[38;5;241m.\u001b[39mreshape(\u001b[38;5;241m-\u001b[39m\u001b[38;5;241m1\u001b[39m, \u001b[38;5;241m1\u001b[39m, \u001b[38;5;241m1\u001b[39m, \u001b[38;5;241m1\u001b[39m, \u001b[38;5;241m1\u001b[39m)\n\u001b[0;32m---> 52\u001b[0m classes \u001b[38;5;241m=\u001b[39m \u001b[43mclasses\u001b[49m\u001b[38;5;241;43m.\u001b[39;49m\u001b[43mrepeat\u001b[49m(nint)\n\u001b[1;32m     53\u001b[0m \u001b[38;5;66;03m##\u001b[39;00m\n\u001b[1;32m     54\u001b[0m loss_fn \u001b[38;5;241m=\u001b[39m \u001b[38;5;28mself\u001b[39m\u001b[38;5;241m.\u001b[39mget_loss_fn(model, classes)\n",
      "\u001b[0;31mAttributeError\u001b[0m: 'PyTorchTensor' object has no attribute 'repeat'"
     ]
    }
   ],
   "source": [
    "for id_name in ['cifar10', 'cifar100', 'imagenet200']:\n",
    "    for attack_name, attack in attacks.items():\n",
    "        print(f'EVALUATING IN {id_name}, attack: {attack_name}')\n",
    "        dataloader, mean_std = get_dataloader(id_name)\n",
    "        nets = get_nets(id_name)\n",
    "        fmodel = get_fb_model(nets[0], *mean_std)\n",
    "        advs = get_advs(dataloader, fmodel, attack, *mean_std)\n",
    "        np.save(f'data/benchmark_imglist/{id_name}/{attack_name}.npy', advs)"
   ]
  },
  {
   "cell_type": "code",
   "execution_count": 4,
   "id": "53689a75-91cf-4af1-8ade-14ebc8ddd913",
   "metadata": {
    "tags": []
   },
   "outputs": [
    {
     "name": "stdout",
     "output_type": "stream",
     "text": [
      "EVALUATING IN imagenet200, attack: igm\n"
     ]
    },
    {
     "name": "stderr",
     "output_type": "stream",
     "text": [
      " 99%|██████████████████████████████████████████████████████████████████████████████████████████████▎| 140/141 [09:04<00:03,  3.91s/it]/home/gabriel/.pyenv/versions/3.10.12/lib/python3.10/site-packages/torch/nn/modules/conv.py:456: UserWarning: Plan failed with a cudnnException: CUDNN_BACKEND_EXECUTION_PLAN_DESCRIPTOR: cudnnFinalize Descriptor Failed cudnn_status: CUDNN_STATUS_NOT_SUPPORTED (Triggered internally at ../aten/src/ATen/native/cudnn/Conv_v8.cpp:919.)\n",
      "  return F.conv2d(input, weight, bias, self.stride,\n",
      "100%|███████████████████████████████████████████████████████████████████████████████████████████████| 141/141 [09:06<00:00,  3.88s/it]\n"
     ]
    },
    {
     "name": "stdout",
     "output_type": "stream",
     "text": [
      "EVALUATING IN imagenet200, attack: iter\n"
     ]
    },
    {
     "name": "stderr",
     "output_type": "stream",
     "text": [
      "100%|███████████████████████████████████████████████████████████████████████████████████████████████| 141/141 [01:30<00:00,  1.55it/s]\n"
     ]
    }
   ],
   "source": [
    "attacks = {\n",
    "    'igm': IGM(),\n",
    "    'iter': fb.attacks.LinfBasicIterativeAttack()\n",
    "}\n",
    "for id_name in ['imagenet200']:\n",
    "    for attack_name, attack in attacks.items():\n",
    "        print(f'EVALUATING IN {id_name}, attack: {attack_name}')\n",
    "        dataloader, mean_std = get_dataloader(id_name)\n",
    "        nets = get_nets(id_name)\n",
    "        fmodel = get_fb_model(nets[0], *mean_std)\n",
    "        advs = get_advs(dataloader, fmodel, attack, *mean_std)\n",
    "        np.save(f'data/benchmark_imglist/{id_name}/{attack_name}.npy', advs)"
   ]
  },
  {
   "cell_type": "code",
   "execution_count": 6,
   "id": "085098d9-aacd-4de0-b686-2e07a7600165",
   "metadata": {
    "tags": []
   },
   "outputs": [
    {
     "data": {
      "text/plain": [
       "(tensor([0.9524, 0.9230, 0.9951, 0.9757, 0.9724, 0.9918, 0.9626, 0.9823, 0.9707,\n",
       "         0.9622, 0.9664, 0.9999, 0.9881, 0.9320, 0.9940, 0.8786, 0.9919, 0.9533,\n",
       "         0.8107, 0.9664]),\n",
       " tensor([ 5, 15, 19, 16,  6,  7, 15, 14, 14, 17,  2, 15, 14, 17,  0,  7,  4, 13,\n",
       "         16, 11]))"
      ]
     },
     "execution_count": 6,
     "metadata": {},
     "output_type": "execute_result"
    }
   ],
   "source": [
    "a, b = torch.rand(20, 20).max(0)\n",
    "a, b"
   ]
  },
  {
   "cell_type": "code",
   "execution_count": 69,
   "id": "fd9dd1e2-eb47-43ff-add7-2129b66ad3af",
   "metadata": {
    "tags": []
   },
   "outputs": [
    {
     "name": "stdout",
     "output_type": "stream",
     "text": [
      "> \u001b[0;32m/home/gabriel/.pyenv/versions/3.10.12/lib/python3.10/site-packages/eagerpy/tensor/pytorch.py\u001b[0m(468)\u001b[0;36mcrossentropy\u001b[0;34m()\u001b[0m\n",
      "\u001b[0;32m    466 \u001b[0;31m            \u001b[0;32mraise\u001b[0m \u001b[0mValueError\u001b[0m\u001b[0;34m(\u001b[0m\u001b[0;34m\"crossentropy only supported for 2D logits tensors\"\u001b[0m\u001b[0;34m)\u001b[0m\u001b[0;34m\u001b[0m\u001b[0;34m\u001b[0m\u001b[0m\n",
      "\u001b[0m\u001b[0;32m    467 \u001b[0;31m        \u001b[0;32mif\u001b[0m \u001b[0mself\u001b[0m\u001b[0;34m.\u001b[0m\u001b[0mshape\u001b[0m\u001b[0;34m[\u001b[0m\u001b[0;34m:\u001b[0m\u001b[0;36m1\u001b[0m\u001b[0;34m]\u001b[0m \u001b[0;34m!=\u001b[0m \u001b[0mlabels\u001b[0m\u001b[0;34m.\u001b[0m\u001b[0mshape\u001b[0m\u001b[0;34m:\u001b[0m\u001b[0;34m\u001b[0m\u001b[0;34m\u001b[0m\u001b[0m\n",
      "\u001b[0m\u001b[0;32m--> 468 \u001b[0;31m            \u001b[0;32mraise\u001b[0m \u001b[0mValueError\u001b[0m\u001b[0;34m(\u001b[0m\u001b[0;34m\"labels must be 1D and must match the length of logits\"\u001b[0m\u001b[0;34m)\u001b[0m\u001b[0;34m\u001b[0m\u001b[0;34m\u001b[0m\u001b[0m\n",
      "\u001b[0m\u001b[0;32m    469 \u001b[0;31m        return type(self)(\n",
      "\u001b[0m\u001b[0;32m    470 \u001b[0;31m            \u001b[0mtorch\u001b[0m\u001b[0;34m.\u001b[0m\u001b[0mnn\u001b[0m\u001b[0;34m.\u001b[0m\u001b[0mfunctional\u001b[0m\u001b[0;34m.\u001b[0m\u001b[0mcross_entropy\u001b[0m\u001b[0;34m(\u001b[0m\u001b[0mself\u001b[0m\u001b[0;34m.\u001b[0m\u001b[0mraw\u001b[0m\u001b[0;34m,\u001b[0m \u001b[0mlabels\u001b[0m\u001b[0;34m.\u001b[0m\u001b[0mraw\u001b[0m\u001b[0;34m,\u001b[0m \u001b[0mreduction\u001b[0m\u001b[0;34m=\u001b[0m\u001b[0;34m\"none\"\u001b[0m\u001b[0;34m)\u001b[0m\u001b[0;34m\u001b[0m\u001b[0;34m\u001b[0m\u001b[0m\n",
      "\u001b[0m\n"
     ]
    },
    {
     "name": "stdin",
     "output_type": "stream",
     "text": [
      "ipdb>  up\n"
     ]
    },
    {
     "name": "stdout",
     "output_type": "stream",
     "text": [
      "> \u001b[0;32m/home/gabriel/.pyenv/versions/3.10.12/lib/python3.10/site-packages/eagerpy/framework.py\u001b[0m(325)\u001b[0;36mcrossentropy\u001b[0;34m()\u001b[0m\n",
      "\u001b[0;32m    323 \u001b[0;31m\u001b[0;34m\u001b[0m\u001b[0m\n",
      "\u001b[0m\u001b[0;32m    324 \u001b[0;31m\u001b[0;32mdef\u001b[0m \u001b[0mcrossentropy\u001b[0m\u001b[0;34m(\u001b[0m\u001b[0mlogits\u001b[0m\u001b[0;34m:\u001b[0m \u001b[0mTensorType\u001b[0m\u001b[0;34m,\u001b[0m \u001b[0mlabels\u001b[0m\u001b[0;34m:\u001b[0m \u001b[0mTensorType\u001b[0m\u001b[0;34m)\u001b[0m \u001b[0;34m->\u001b[0m \u001b[0mTensorType\u001b[0m\u001b[0;34m:\u001b[0m\u001b[0;34m\u001b[0m\u001b[0;34m\u001b[0m\u001b[0m\n",
      "\u001b[0m\u001b[0;32m--> 325 \u001b[0;31m    \u001b[0;32mreturn\u001b[0m \u001b[0mlogits\u001b[0m\u001b[0;34m.\u001b[0m\u001b[0mcrossentropy\u001b[0m\u001b[0;34m(\u001b[0m\u001b[0mlabels\u001b[0m\u001b[0;34m)\u001b[0m\u001b[0;34m\u001b[0m\u001b[0;34m\u001b[0m\u001b[0m\n",
      "\u001b[0m\u001b[0;32m    326 \u001b[0;31m\u001b[0;34m\u001b[0m\u001b[0m\n",
      "\u001b[0m\u001b[0;32m    327 \u001b[0;31m\u001b[0;34m\u001b[0m\u001b[0m\n",
      "\u001b[0m\n"
     ]
    },
    {
     "name": "stdin",
     "output_type": "stream",
     "text": [
      "ipdb>  labels\n"
     ]
    },
    {
     "name": "stdout",
     "output_type": "stream",
     "text": [
      "PyTorchTensor(tensor([0, 0, 0, 0, 0, 0, 0, 0, 0, 0, 0, 0, 0, 0, 0, 0, 0, 0, 0, 0, 0, 0, 0, 0,\n",
      "                      0, 0, 0, 0, 0, 0, 0, 0, 0, 0, 0, 0, 0, 0, 0, 0, 0, 0, 0, 0, 0, 0, 0, 0,\n",
      "                      0, 0, 0, 0, 0, 0, 0, 0, 0, 0, 0, 0, 0, 0, 0, 0, 0, 0, 0, 0, 0, 0, 0, 0,\n",
      "                      0, 0, 0, 0, 0, 0, 0, 0, 0, 0, 0, 0, 0, 0, 0, 0, 0, 0, 0, 0, 0, 0, 0, 0,\n",
      "                      0, 0, 0, 0, 0, 0, 0, 0, 0, 0, 0, 0, 0, 0, 0, 0, 0, 0, 0, 0, 0, 0, 0, 0,\n",
      "                      0, 0, 0, 0, 0, 0, 0, 0, 0, 0, 0, 0, 0, 0, 0, 0, 0, 0, 0, 0, 0, 0, 0, 0,\n",
      "                      0, 0, 0, 0, 0, 0, 0, 0, 0, 0, 0, 0, 0, 0, 0, 0, 0, 0, 0, 0, 0, 0, 0, 0,\n",
      "                      0, 0, 0, 0, 0, 0, 0, 0, 0, 0, 0, 0, 0, 0, 0, 0, 0, 0, 0, 0, 0, 0, 0, 0,\n",
      "                      0, 0, 0, 0, 0, 0, 0, 0], device='cuda:0'))\n"
     ]
    },
    {
     "name": "stdin",
     "output_type": "stream",
     "text": [
      "ipdb>  labels.shape\n"
     ]
    },
    {
     "name": "stdout",
     "output_type": "stream",
     "text": [
      "torch.Size([200])\n"
     ]
    },
    {
     "name": "stdin",
     "output_type": "stream",
     "text": [
      "ipdb>  logits.shape\n"
     ]
    },
    {
     "name": "stdout",
     "output_type": "stream",
     "text": [
      "torch.Size([1600, 10])\n"
     ]
    },
    {
     "name": "stdin",
     "output_type": "stream",
     "text": [
      "ipdb>  up\n"
     ]
    },
    {
     "name": "stdout",
     "output_type": "stream",
     "text": [
      "> \u001b[0;32m/home/gabriel/.pyenv/versions/3.10.12/lib/python3.10/site-packages/foolbox/attacks/gradient_descent_base.py\u001b[0m(97)\u001b[0;36mloss_fn\u001b[0;34m()\u001b[0m\n",
      "\u001b[0;32m     95 \u001b[0;31m        \u001b[0;32mdef\u001b[0m \u001b[0mloss_fn\u001b[0m\u001b[0;34m(\u001b[0m\u001b[0minputs\u001b[0m\u001b[0;34m:\u001b[0m \u001b[0mep\u001b[0m\u001b[0;34m.\u001b[0m\u001b[0mTensor\u001b[0m\u001b[0;34m)\u001b[0m \u001b[0;34m->\u001b[0m \u001b[0mep\u001b[0m\u001b[0;34m.\u001b[0m\u001b[0mTensor\u001b[0m\u001b[0;34m:\u001b[0m\u001b[0;34m\u001b[0m\u001b[0;34m\u001b[0m\u001b[0m\n",
      "\u001b[0m\u001b[0;32m     96 \u001b[0;31m            \u001b[0mlogits\u001b[0m \u001b[0;34m=\u001b[0m \u001b[0mmodel\u001b[0m\u001b[0;34m(\u001b[0m\u001b[0minputs\u001b[0m\u001b[0;34m)\u001b[0m\u001b[0;34m\u001b[0m\u001b[0;34m\u001b[0m\u001b[0m\n",
      "\u001b[0m\u001b[0;32m---> 97 \u001b[0;31m            \u001b[0;32mreturn\u001b[0m \u001b[0mep\u001b[0m\u001b[0;34m.\u001b[0m\u001b[0mcrossentropy\u001b[0m\u001b[0;34m(\u001b[0m\u001b[0mlogits\u001b[0m\u001b[0;34m,\u001b[0m \u001b[0mlabels\u001b[0m\u001b[0;34m)\u001b[0m\u001b[0;34m.\u001b[0m\u001b[0msum\u001b[0m\u001b[0;34m(\u001b[0m\u001b[0;34m)\u001b[0m\u001b[0;34m\u001b[0m\u001b[0;34m\u001b[0m\u001b[0m\n",
      "\u001b[0m\u001b[0;32m     98 \u001b[0;31m\u001b[0;34m\u001b[0m\u001b[0m\n",
      "\u001b[0m\u001b[0;32m     99 \u001b[0;31m        \u001b[0;32mreturn\u001b[0m \u001b[0mloss_fn\u001b[0m\u001b[0;34m\u001b[0m\u001b[0;34m\u001b[0m\u001b[0m\n",
      "\u001b[0m\n"
     ]
    },
    {
     "name": "stdin",
     "output_type": "stream",
     "text": [
      "ipdb>  up\n"
     ]
    },
    {
     "name": "stdout",
     "output_type": "stream",
     "text": [
      "> \u001b[0;32m/home/gabriel/.pyenv/versions/3.10.12/lib/python3.10/site-packages/eagerpy/tensor/pytorch.py\u001b[0m(505)\u001b[0;36mvalue_and_grad\u001b[0;34m()\u001b[0m\n",
      "\u001b[0;32m    503 \u001b[0;31m                \u001b[0mloss\u001b[0m\u001b[0;34m,\u001b[0m \u001b[0maux\u001b[0m \u001b[0;34m=\u001b[0m \u001b[0mf\u001b[0m\u001b[0;34m(\u001b[0m\u001b[0mx\u001b[0m\u001b[0;34m,\u001b[0m \u001b[0;34m*\u001b[0m\u001b[0margs\u001b[0m\u001b[0;34m,\u001b[0m \u001b[0;34m**\u001b[0m\u001b[0mkwargs\u001b[0m\u001b[0;34m)\u001b[0m\u001b[0;34m\u001b[0m\u001b[0;34m\u001b[0m\u001b[0m\n",
      "\u001b[0m\u001b[0;32m    504 \u001b[0;31m            \u001b[0;32melse\u001b[0m\u001b[0;34m:\u001b[0m\u001b[0;34m\u001b[0m\u001b[0;34m\u001b[0m\u001b[0m\n",
      "\u001b[0m\u001b[0;32m--> 505 \u001b[0;31m                \u001b[0mloss\u001b[0m \u001b[0;34m=\u001b[0m \u001b[0mf\u001b[0m\u001b[0;34m(\u001b[0m\u001b[0mx\u001b[0m\u001b[0;34m,\u001b[0m \u001b[0;34m*\u001b[0m\u001b[0margs\u001b[0m\u001b[0;34m,\u001b[0m \u001b[0;34m**\u001b[0m\u001b[0mkwargs\u001b[0m\u001b[0;34m)\u001b[0m\u001b[0;34m\u001b[0m\u001b[0;34m\u001b[0m\u001b[0m\n",
      "\u001b[0m\u001b[0;32m    506 \u001b[0;31m            \u001b[0mloss\u001b[0m \u001b[0;34m=\u001b[0m \u001b[0mloss\u001b[0m\u001b[0;34m.\u001b[0m\u001b[0mraw\u001b[0m\u001b[0;34m\u001b[0m\u001b[0;34m\u001b[0m\u001b[0m\n",
      "\u001b[0m\u001b[0;32m    507 \u001b[0;31m            \u001b[0mloss\u001b[0m\u001b[0;34m.\u001b[0m\u001b[0mbackward\u001b[0m\u001b[0;34m(\u001b[0m\u001b[0;34m)\u001b[0m\u001b[0;34m\u001b[0m\u001b[0;34m\u001b[0m\u001b[0m\n",
      "\u001b[0m\n"
     ]
    },
    {
     "name": "stdin",
     "output_type": "stream",
     "text": [
      "ipdb>  up\n"
     ]
    },
    {
     "name": "stdout",
     "output_type": "stream",
     "text": [
      "> \u001b[0;32m/home/gabriel/.pyenv/versions/3.10.12/lib/python3.10/site-packages/eagerpy/tensor/tensor.py\u001b[0m(553)\u001b[0;36mvalue_and_grad\u001b[0;34m()\u001b[0m\n",
      "\u001b[0;32m    551 \u001b[0;31m        \u001b[0mself\u001b[0m\u001b[0;34m:\u001b[0m \u001b[0mTensorType\u001b[0m\u001b[0;34m,\u001b[0m \u001b[0mf\u001b[0m\u001b[0;34m:\u001b[0m \u001b[0mCallable\u001b[0m\u001b[0;34m[\u001b[0m\u001b[0;34m...\u001b[0m\u001b[0;34m,\u001b[0m \u001b[0mTensorType\u001b[0m\u001b[0;34m]\u001b[0m\u001b[0;34m,\u001b[0m \u001b[0;34m*\u001b[0m\u001b[0margs\u001b[0m\u001b[0;34m:\u001b[0m \u001b[0mAny\u001b[0m\u001b[0;34m,\u001b[0m \u001b[0;34m**\u001b[0m\u001b[0mkwargs\u001b[0m\u001b[0;34m:\u001b[0m \u001b[0mAny\u001b[0m\u001b[0;34m\u001b[0m\u001b[0;34m\u001b[0m\u001b[0m\n",
      "\u001b[0m\u001b[0;32m    552 \u001b[0;31m    ) -> Tuple[TensorType, TensorType]:\n",
      "\u001b[0m\u001b[0;32m--> 553 \u001b[0;31m        \u001b[0;32mreturn\u001b[0m \u001b[0mself\u001b[0m\u001b[0;34m.\u001b[0m\u001b[0m_value_and_grad_fn\u001b[0m\u001b[0;34m(\u001b[0m\u001b[0mf\u001b[0m\u001b[0;34m,\u001b[0m \u001b[0mhas_aux\u001b[0m\u001b[0;34m=\u001b[0m\u001b[0;32mFalse\u001b[0m\u001b[0;34m)\u001b[0m\u001b[0;34m(\u001b[0m\u001b[0mself\u001b[0m\u001b[0;34m,\u001b[0m \u001b[0;34m*\u001b[0m\u001b[0margs\u001b[0m\u001b[0;34m,\u001b[0m \u001b[0;34m**\u001b[0m\u001b[0mkwargs\u001b[0m\u001b[0;34m)\u001b[0m\u001b[0;34m\u001b[0m\u001b[0;34m\u001b[0m\u001b[0m\n",
      "\u001b[0m\u001b[0;32m    554 \u001b[0;31m\u001b[0;34m\u001b[0m\u001b[0m\n",
      "\u001b[0m\u001b[0;32m    555 \u001b[0;31m    \u001b[0;34m@\u001b[0m\u001b[0mfinal\u001b[0m\u001b[0;34m\u001b[0m\u001b[0;34m\u001b[0m\u001b[0m\n",
      "\u001b[0m\n"
     ]
    },
    {
     "name": "stdin",
     "output_type": "stream",
     "text": [
      "ipdb>  up\n"
     ]
    },
    {
     "name": "stdout",
     "output_type": "stream",
     "text": [
      "> \u001b[0;32m/home/gabriel/.pyenv/versions/3.10.12/lib/python3.10/site-packages/eagerpy/framework.py\u001b[0m(360)\u001b[0;36mvalue_and_grad\u001b[0;34m()\u001b[0m\n",
      "\u001b[0;32m    358 \u001b[0;31m    \u001b[0mf\u001b[0m\u001b[0;34m:\u001b[0m \u001b[0mCallable\u001b[0m\u001b[0;34m[\u001b[0m\u001b[0;34m...\u001b[0m\u001b[0;34m,\u001b[0m \u001b[0mTensorType\u001b[0m\u001b[0;34m]\u001b[0m\u001b[0;34m,\u001b[0m \u001b[0mt\u001b[0m\u001b[0;34m:\u001b[0m \u001b[0mTensorType\u001b[0m\u001b[0;34m,\u001b[0m \u001b[0;34m*\u001b[0m\u001b[0margs\u001b[0m\u001b[0;34m:\u001b[0m \u001b[0mAny\u001b[0m\u001b[0;34m,\u001b[0m \u001b[0;34m**\u001b[0m\u001b[0mkwargs\u001b[0m\u001b[0;34m:\u001b[0m \u001b[0mAny\u001b[0m\u001b[0;34m\u001b[0m\u001b[0;34m\u001b[0m\u001b[0m\n",
      "\u001b[0m\u001b[0;32m    359 \u001b[0;31m) -> Tuple[TensorType, TensorType]:\n",
      "\u001b[0m\u001b[0;32m--> 360 \u001b[0;31m    \u001b[0;32mreturn\u001b[0m \u001b[0mt\u001b[0m\u001b[0;34m.\u001b[0m\u001b[0mvalue_and_grad\u001b[0m\u001b[0;34m(\u001b[0m\u001b[0mf\u001b[0m\u001b[0;34m,\u001b[0m \u001b[0;34m*\u001b[0m\u001b[0margs\u001b[0m\u001b[0;34m,\u001b[0m \u001b[0;34m**\u001b[0m\u001b[0mkwargs\u001b[0m\u001b[0;34m)\u001b[0m\u001b[0;34m\u001b[0m\u001b[0;34m\u001b[0m\u001b[0m\n",
      "\u001b[0m\u001b[0;32m    361 \u001b[0;31m\u001b[0;34m\u001b[0m\u001b[0m\n",
      "\u001b[0m\u001b[0;32m    362 \u001b[0;31m\u001b[0;34m\u001b[0m\u001b[0m\n",
      "\u001b[0m\n"
     ]
    },
    {
     "name": "stdin",
     "output_type": "stream",
     "text": [
      "ipdb>  up\n"
     ]
    },
    {
     "name": "stdout",
     "output_type": "stream",
     "text": [
      "> \u001b[0;32m/home/gabriel/.pyenv/versions/3.10.12/lib/python3.10/site-packages/foolbox/attacks/gradient_descent_base.py\u001b[0m(111)\u001b[0;36mvalue_and_grad\u001b[0;34m()\u001b[0m\n",
      "\u001b[0;32m    109 \u001b[0;31m        \u001b[0mx\u001b[0m\u001b[0;34m:\u001b[0m \u001b[0mep\u001b[0m\u001b[0;34m.\u001b[0m\u001b[0mTensor\u001b[0m\u001b[0;34m,\u001b[0m\u001b[0;34m\u001b[0m\u001b[0;34m\u001b[0m\u001b[0m\n",
      "\u001b[0m\u001b[0;32m    110 \u001b[0;31m    ) -> Tuple[ep.Tensor, ep.Tensor]:\n",
      "\u001b[0m\u001b[0;32m--> 111 \u001b[0;31m        \u001b[0;32mreturn\u001b[0m \u001b[0mep\u001b[0m\u001b[0;34m.\u001b[0m\u001b[0mvalue_and_grad\u001b[0m\u001b[0;34m(\u001b[0m\u001b[0mloss_fn\u001b[0m\u001b[0;34m,\u001b[0m \u001b[0mx\u001b[0m\u001b[0;34m)\u001b[0m\u001b[0;34m\u001b[0m\u001b[0;34m\u001b[0m\u001b[0m\n",
      "\u001b[0m\u001b[0;32m    112 \u001b[0;31m\u001b[0;34m\u001b[0m\u001b[0m\n",
      "\u001b[0m\u001b[0;32m    113 \u001b[0;31m    def run(\n",
      "\u001b[0m\n"
     ]
    },
    {
     "name": "stdin",
     "output_type": "stream",
     "text": [
      "ipdb>  x.shape\n"
     ]
    },
    {
     "name": "stdout",
     "output_type": "stream",
     "text": [
      "torch.Size([1600, 3, 32, 32])\n"
     ]
    },
    {
     "name": "stdin",
     "output_type": "stream",
     "text": [
      "ipdb>  up\n"
     ]
    },
    {
     "name": "stdout",
     "output_type": "stream",
     "text": [
      "> \u001b[0;32m/tmp/ipykernel_75979/528264053.py\u001b[0m(69)\u001b[0;36mrun\u001b[0;34m()\u001b[0m\n",
      "\u001b[0;32m     67 \u001b[0;31m        \u001b[0;32mfor\u001b[0m \u001b[0m_\u001b[0m \u001b[0;32min\u001b[0m \u001b[0mrange\u001b[0m\u001b[0;34m(\u001b[0m\u001b[0mself\u001b[0m\u001b[0;34m.\u001b[0m\u001b[0msteps\u001b[0m\u001b[0;34m)\u001b[0m\u001b[0;34m:\u001b[0m\u001b[0;34m\u001b[0m\u001b[0;34m\u001b[0m\u001b[0m\n",
      "\u001b[0m\u001b[0;32m     68 \u001b[0;31m            \u001b[0mx_exp\u001b[0m \u001b[0;34m=\u001b[0m \u001b[0;34m(\u001b[0m\u001b[0mscales_int\u001b[0m \u001b[0;34m*\u001b[0m \u001b[0mx\u001b[0m\u001b[0;34m)\u001b[0m\u001b[0;34m.\u001b[0m\u001b[0mflatten\u001b[0m\u001b[0;34m(\u001b[0m\u001b[0;36m0\u001b[0m\u001b[0;34m,\u001b[0m \u001b[0;36m1\u001b[0m\u001b[0;34m)\u001b[0m\u001b[0;34m\u001b[0m\u001b[0;34m\u001b[0m\u001b[0m\n",
      "\u001b[0m\u001b[0;32m---> 69 \u001b[0;31m            \u001b[0m_\u001b[0m\u001b[0;34m,\u001b[0m \u001b[0mgradients\u001b[0m \u001b[0;34m=\u001b[0m \u001b[0mself\u001b[0m\u001b[0;34m.\u001b[0m\u001b[0mvalue_and_grad\u001b[0m\u001b[0;34m(\u001b[0m\u001b[0mloss_fn\u001b[0m\u001b[0;34m,\u001b[0m \u001b[0mx_exp\u001b[0m\u001b[0;34m)\u001b[0m\u001b[0;34m\u001b[0m\u001b[0;34m\u001b[0m\u001b[0m\n",
      "\u001b[0m\u001b[0;32m     70 \u001b[0;31m            \u001b[0mgradients\u001b[0m \u001b[0;34m=\u001b[0m \u001b[0mgradients\u001b[0m\u001b[0;34m.\u001b[0m\u001b[0munflatten\u001b[0m\u001b[0;34m(\u001b[0m\u001b[0;36m0\u001b[0m\u001b[0;34m,\u001b[0m \u001b[0;34m(\u001b[0m\u001b[0mnint\u001b[0m\u001b[0;34m,\u001b[0m \u001b[0;34m-\u001b[0m\u001b[0;36m1\u001b[0m\u001b[0;34m)\u001b[0m\u001b[0;34m)\u001b[0m\u001b[0;34m.\u001b[0m\u001b[0msum\u001b[0m\u001b[0;34m(\u001b[0m\u001b[0;36m0\u001b[0m\u001b[0;34m)\u001b[0m \u001b[0;34m/\u001b[0m \u001b[0mnint\u001b[0m\u001b[0;34m\u001b[0m\u001b[0;34m\u001b[0m\u001b[0m\n",
      "\u001b[0m\u001b[0;32m     71 \u001b[0;31m            \u001b[0mgradients\u001b[0m \u001b[0;34m=\u001b[0m \u001b[0mself\u001b[0m\u001b[0;34m.\u001b[0m\u001b[0mnormalize\u001b[0m\u001b[0;34m(\u001b[0m\u001b[0mgradients\u001b[0m\u001b[0;34m,\u001b[0m \u001b[0mx\u001b[0m\u001b[0;34m=\u001b[0m\u001b[0mx\u001b[0m\u001b[0;34m,\u001b[0m \u001b[0mbounds\u001b[0m\u001b[0;34m=\u001b[0m\u001b[0mmodel\u001b[0m\u001b[0;34m.\u001b[0m\u001b[0mbounds\u001b[0m\u001b[0;34m)\u001b[0m\u001b[0;34m\u001b[0m\u001b[0;34m\u001b[0m\u001b[0m\n",
      "\u001b[0m\n"
     ]
    },
    {
     "name": "stdin",
     "output_type": "stream",
     "text": [
      "ipdb>  criterion_\n"
     ]
    },
    {
     "name": "stdout",
     "output_type": "stream",
     "text": [
      "Misclassification(PyTorchTensor(tensor([0, 0, 0, 0, 0, 0, 0, 0, 0, 0, 0, 0, 0, 0, 0, 0, 0, 0, 0, 0, 0, 0, 0, 0,\n",
      "                      0, 0, 0, 0, 0, 0, 0, 0, 0, 0, 0, 0, 0, 0, 0, 0, 0, 0, 0, 0, 0, 0, 0, 0,\n",
      "                      0, 0, 0, 0, 0, 0, 0, 0, 0, 0, 0, 0, 0, 0, 0, 0, 0, 0, 0, 0, 0, 0, 0, 0,\n",
      "                      0, 0, 0, 0, 0, 0, 0, 0, 0, 0, 0, 0, 0, 0, 0, 0, 0, 0, 0, 0, 0, 0, 0, 0,\n",
      "                      0, 0, 0, 0, 0, 0, 0, 0, 0, 0, 0, 0, 0, 0, 0, 0, 0, 0, 0, 0, 0, 0, 0, 0,\n",
      "                      0, 0, 0, 0, 0, 0, 0, 0, 0, 0, 0, 0, 0, 0, 0, 0, 0, 0, 0, 0, 0, 0, 0, 0,\n",
      "                      0, 0, 0, 0, 0, 0, 0, 0, 0, 0, 0, 0, 0, 0, 0, 0, 0, 0, 0, 0, 0, 0, 0, 0,\n",
      "                      0, 0, 0, 0, 0, 0, 0, 0, 0, 0, 0, 0, 0, 0, 0, 0, 0, 0, 0, 0, 0, 0, 0, 0,\n",
      "                      0, 0, 0, 0, 0, 0, 0, 0], device='cuda:0')))\n"
     ]
    },
    {
     "name": "stdin",
     "output_type": "stream",
     "text": [
      "ipdb>  r\n"
     ]
    }
   ],
   "source": [
    "%debug"
   ]
  },
  {
   "cell_type": "code",
   "execution_count": 63,
   "id": "eb251770-32d3-472a-a11e-7aa74596085e",
   "metadata": {
    "tags": []
   },
   "outputs": [
    {
     "data": {
      "text/plain": [
       "tensor(0, dtype=torch.uint8)"
      ]
     },
     "execution_count": 63,
     "metadata": {},
     "output_type": "execute_result"
    }
   ],
   "source": [
    "((x * std + mean)*255).min().to('cpu', torch.uint8)"
   ]
  },
  {
   "cell_type": "code",
   "execution_count": 21,
   "id": "38305003-ea08-4bcc-8103-7bdc438aa48c",
   "metadata": {
    "tags": []
   },
   "outputs": [],
   "source": [
    "datas = next(iter(dataloader))\n",
    "x, y = datas['data'].cuda(), datas['label'].cuda()"
   ]
  },
  {
   "cell_type": "code",
   "execution_count": 3,
   "id": "dfb8ea06-a7b4-40c0-90b5-572d47657288",
   "metadata": {
    "tags": []
   },
   "outputs": [],
   "source": []
  },
  {
   "cell_type": "code",
   "execution_count": 4,
   "id": "a3bc04aa-05d1-432b-aff1-c44c4ea8d255",
   "metadata": {
    "tags": []
   },
   "outputs": [],
   "source": [
    "fmodel = fb.PyTorchModel(net, bounds=(-2, 2.13))\n",
    "attack = fb.attacks.FGSM()"
   ]
  },
  {
   "cell_type": "code",
   "execution_count": 7,
   "id": "a6cde407-2a72-455a-89ef-df727519b89e",
   "metadata": {
    "tags": []
   },
   "outputs": [
    {
     "data": {
      "text/plain": [
       "0.9199999570846558"
      ]
     },
     "execution_count": 7,
     "metadata": {},
     "output_type": "execute_result"
    }
   ],
   "source": [
    "fb.utils.accuracy(fmodel, datas['data'].cuda(), datas['label'].cuda())"
   ]
  },
  {
   "cell_type": "code",
   "execution_count": 34,
   "id": "3e9a96d6-52f4-4af7-b5f0-d1e013994ba8",
   "metadata": {
    "tags": []
   },
   "outputs": [],
   "source": [
    "raw, advs, success = attack(fmodel, datas['data'].cuda(), datas['label'].cuda(), epsilons=0.3)"
   ]
  },
  {
   "cell_type": "code",
   "execution_count": 28,
   "id": "2cbd69c5-b5b9-4633-b4ea-29f9bb76b5d2",
   "metadata": {
    "tags": []
   },
   "outputs": [
    {
     "data": {
      "text/plain": [
       "tensor(178, device='cuda:0')"
      ]
     },
     "execution_count": 28,
     "metadata": {},
     "output_type": "execute_result"
    }
   ],
   "source": [
    "(torch.stack([n(x).argmax(1) == y for n in nets]).sum(0) == 3).sum()"
   ]
  },
  {
   "cell_type": "code",
   "execution_count": 31,
   "id": "a641ab17-ff03-4d72-9f03-eab1fa52d96a",
   "metadata": {
    "tags": []
   },
   "outputs": [
    {
     "data": {
      "text/plain": [
       "tensor(157, device='cuda:0')"
      ]
     },
     "execution_count": 31,
     "metadata": {},
     "output_type": "execute_result"
    }
   ],
   "source": [
    "(torch.stack([torch.logical_and(n(x).argmax(1) == y, n(advs).argmax(1) != y) for n in nets]).sum(0) == 3).sum()"
   ]
  },
  {
   "cell_type": "code",
   "execution_count": 5,
   "id": "41561692-8595-4791-ae9c-dcfb1120e4b3",
   "metadata": {
    "tags": []
   },
   "outputs": [
    {
     "name": "stderr",
     "output_type": "stream",
     "text": [
      "  0%|                                                    | 0/45 [00:00<?, ?it/s]/home/gabriel/.pyenv/versions/3.10.12/lib/python3.10/site-packages/torch/autograd/graph.py:744: UserWarning: Plan failed with a cudnnException: CUDNN_BACKEND_EXECUTION_PLAN_DESCRIPTOR: cudnnFinalize Descriptor Failed cudnn_status: CUDNN_STATUS_NOT_SUPPORTED (Triggered internally at ../aten/src/ATen/native/cudnn/Conv_v8.cpp:919.)\n",
      "  return Variable._execution_engine.run_backward(  # Calls into the C++ engine to run the backward pass\n",
      "100%|███████████████████████████████████████████| 45/45 [00:06<00:00,  6.73it/s]\n"
     ]
    }
   ],
   "source": []
  },
  {
   "cell_type": "code",
   "execution_count": 70,
   "id": "f1c4818d-d5f1-40cf-af22-4b15ef9a1f84",
   "metadata": {
    "tags": []
   },
   "outputs": [
    {
     "data": {
      "text/plain": [
       "5564"
      ]
     },
     "execution_count": 70,
     "metadata": {},
     "output_type": "execute_result"
    }
   ],
   "source": [
    "np.array([len(n) for n in names_advs]).sum()"
   ]
  },
  {
   "cell_type": "code",
   "execution_count": 6,
   "id": "ba3b30e0-5ef0-4b93-9d48-336c532f1271",
   "metadata": {
    "tags": []
   },
   "outputs": [],
   "source": [
    "np.save('data/benchmark_imglist/cifar10/fgsm.npy', torch.concatenate(full_advs).permute(0, 2, 3, 1).numpy())"
   ]
  },
  {
   "cell_type": "code",
   "execution_count": null,
   "id": "2366aec9-fe73-410e-8e1f-5b04259f1396",
   "metadata": {},
   "outputs": [],
   "source": []
  },
  {
   "cell_type": "code",
   "execution_count": 7,
   "id": "44a758c1-5852-4f89-8aba-360e4f9b1da2",
   "metadata": {
    "tags": []
   },
   "outputs": [],
   "source": [
    "fmodel = fb.PyTorchModel(net, bounds=(-2, 2.13))\n",
    "attack = fb.attacks.PGD()"
   ]
  },
  {
   "cell_type": "code",
   "execution_count": 8,
   "id": "86b2e86f-e773-43ff-992e-141e55abb585",
   "metadata": {
    "tags": []
   },
   "outputs": [
    {
     "name": "stderr",
     "output_type": "stream",
     "text": [
      "100%|███████████████████████████████████████████| 45/45 [01:18<00:00,  1.73s/it]\n"
     ]
    }
   ],
   "source": [
    "full_advs = []\n",
    "names_advs = []\n",
    "for data_dict in tqdm(dataloader):\n",
    "    x, y = data_dict['data'].cuda(), data_dict['label'].cuda()\n",
    "    raw, advs, success = attack(fmodel, x, y, epsilons=0.3)\n",
    "    all_success = torch.stack([torch.logical_and(n(x).argmax(1) == y, n(advs).argmax(1) != y) for n in nets]).sum(0) == 3\n",
    "    full_advs.append(((advs[all_success]*std + mean)*255).to('cpu', torch.uint8))\n",
    "    names_advs.append(np.array(data_dict['image_name'])[all_success.cpu().numpy()])"
   ]
  },
  {
   "cell_type": "code",
   "execution_count": 83,
   "id": "bd13cfc9-3166-4c80-a6cb-62f62e7f2b1a",
   "metadata": {
    "tags": []
   },
   "outputs": [
    {
     "data": {
      "text/plain": [
       "7869"
      ]
     },
     "execution_count": 83,
     "metadata": {},
     "output_type": "execute_result"
    }
   ],
   "source": [
    "np.array([len(n) for n in names_advs]).sum()"
   ]
  },
  {
   "cell_type": "code",
   "execution_count": 9,
   "id": "70ece3f5-beb7-485a-9e37-c2570718af52",
   "metadata": {
    "tags": []
   },
   "outputs": [],
   "source": [
    "np.save('data/benchmark_imglist/cifar10/pgd.npy', torch.concatenate(full_advs).permute(0, 2, 3, 1).numpy())"
   ]
  },
  {
   "cell_type": "code",
   "execution_count": 71,
   "id": "637b4600-0705-448f-b7cf-80ba45c359b2",
   "metadata": {
    "tags": []
   },
   "outputs": [
    {
     "data": {
      "text/plain": [
       "1639.68"
      ]
     },
     "execution_count": 71,
     "metadata": {},
     "output_type": "execute_result"
    }
   ],
   "source": [
    "3*224*244*10_000 / 10**6"
   ]
  },
  {
   "cell_type": "code",
   "execution_count": 45,
   "id": "c4bc18c7-e388-4c8f-8743-df93c4bd47c3",
   "metadata": {
    "tags": []
   },
   "outputs": [
    {
     "data": {
      "text/plain": [
       "array(['cifar10/test/airplane/0298.png', 'cifar10/test/airplane/0515.png',\n",
       "       'cifar10/test/airplane/0501.png'], dtype='<U30')"
      ]
     },
     "execution_count": 45,
     "metadata": {},
     "output_type": "execute_result"
    }
   ],
   "source": [
    "np.array(datas['image_name'])[[0, 3, 2]]"
   ]
  },
  {
   "cell_type": "code",
   "execution_count": 31,
   "id": "11d2e6ba-93d1-43cc-8a7c-09d35589b6da",
   "metadata": {
    "tags": []
   },
   "outputs": [
    {
     "data": {
      "text/plain": [
       "dict_keys(['image_name', 'data', 'data_aux', 'label', 'soft_label', 'index', 'pseudo'])"
      ]
     },
     "execution_count": 31,
     "metadata": {},
     "output_type": "execute_result"
    }
   ],
   "source": [
    "datas.keys()"
   ]
  },
  {
   "cell_type": "code",
   "execution_count": 29,
   "id": "7a52bb0d-ff22-4b64-ad8e-e4bbb11b6879",
   "metadata": {
    "tags": []
   },
   "outputs": [
    {
     "data": {
      "text/plain": [
       "array([-1.98947368, -1.98028747, -1.70680428])"
      ]
     },
     "execution_count": 29,
     "metadata": {},
     "output_type": "execute_result"
    }
   ],
   "source": [
    "(np.array([0]*3) - np.array([0.4914, 0.4822, 0.4465])) / np.array([0.2470, 0.2435, 0.2616])"
   ]
  },
  {
   "cell_type": "code",
   "execution_count": 1,
   "id": "bdef6f43-def3-4685-8c0e-2b731c3e74c2",
   "metadata": {},
   "outputs": [
    {
     "data": {
      "text/plain": [
       "19.125"
      ]
     },
     "execution_count": 1,
     "metadata": {},
     "output_type": "execute_result"
    }
   ],
   "source": [
    "0.3/4*255"
   ]
  },
  {
   "cell_type": "code",
   "execution_count": 14,
   "id": "2d55a8bc-e09e-4878-88d2-f3f90e57f97f",
   "metadata": {
    "collapsed": true,
    "jupyter": {
     "outputs_hidden": true
    },
    "tags": []
   },
   "outputs": [
    {
     "data": {
      "text/plain": [
       "{'image_name': ['cifar10/test/airplane/0298.png',\n",
       "  'cifar10/test/airplane/0267.png',\n",
       "  'cifar10/test/airplane/0501.png',\n",
       "  'cifar10/test/airplane/0515.png',\n",
       "  'cifar10/test/airplane/0273.png',\n",
       "  'cifar10/test/airplane/0529.png',\n",
       "  'cifar10/test/airplane/0924.png',\n",
       "  'cifar10/test/airplane/0930.png',\n",
       "  'cifar10/test/airplane/0703.png',\n",
       "  'cifar10/test/airplane/0065.png',\n",
       "  'cifar10/test/airplane/0071.png',\n",
       "  'cifar10/test/airplane/0059.png',\n",
       "  'cifar10/test/airplane/0878.png',\n",
       "  'cifar10/test/airplane/0688.png',\n",
       "  'cifar10/test/airplane/0844.png',\n",
       "  'cifar10/test/airplane/0677.png',\n",
       "  'cifar10/test/airplane/0105.png',\n",
       "  'cifar10/test/airplane/0663.png',\n",
       "  'cifar10/test/airplane/0139.png',\n",
       "  'cifar10/test/airplane/0887.png',\n",
       "  'cifar10/test/airplane/0313.png',\n",
       "  'cifar10/test/airplane/0475.png',\n",
       "  'cifar10/test/airplane/0461.png',\n",
       "  'cifar10/test/airplane/0307.png',\n",
       "  'cifar10/test/airplane/0449.png',\n",
       "  'cifar10/test/airplane/0460.png',\n",
       "  'cifar10/test/airplane/0306.png',\n",
       "  'cifar10/test/airplane/0312.png',\n",
       "  'cifar10/test/airplane/0474.png',\n",
       "  'cifar10/test/airplane/0138.png',\n",
       "  'cifar10/test/airplane/0886.png',\n",
       "  'cifar10/test/airplane/0892.png',\n",
       "  'cifar10/test/airplane/0104.png',\n",
       "  'cifar10/test/airplane/0662.png',\n",
       "  'cifar10/test/airplane/0676.png',\n",
       "  'cifar10/test/airplane/0110.png',\n",
       "  'cifar10/test/airplane/0845.png',\n",
       "  'cifar10/test/airplane/0689.png',\n",
       "  'cifar10/test/airplane/0851.png',\n",
       "  'cifar10/test/airplane/0879.png',\n",
       "  'cifar10/test/airplane/0058.png',\n",
       "  'cifar10/test/airplane/0070.png',\n",
       "  'cifar10/test/airplane/0716.png',\n",
       "  'cifar10/test/airplane/0702.png',\n",
       "  'cifar10/test/airplane/0064.png',\n",
       "  'cifar10/test/airplane/0931.png',\n",
       "  'cifar10/test/airplane/0925.png',\n",
       "  'cifar10/test/airplane/0919.png',\n",
       "  'cifar10/test/airplane/0528.png',\n",
       "  'cifar10/test/airplane/0514.png',\n",
       "  'cifar10/test/airplane/0272.png',\n",
       "  'cifar10/test/airplane/0266.png',\n",
       "  'cifar10/test/airplane/0299.png',\n",
       "  'cifar10/test/airplane/0270.png',\n",
       "  'cifar10/test/airplane/0516.png',\n",
       "  'cifar10/test/airplane/0502.png',\n",
       "  'cifar10/test/airplane/0264.png',\n",
       "  'cifar10/test/airplane/0258.png',\n",
       "  'cifar10/test/airplane/0099.png',\n",
       "  'cifar10/test/airplane/0927.png',\n",
       "  'cifar10/test/airplane/0714.png',\n",
       "  'cifar10/test/airplane/0072.png',\n",
       "  'cifar10/test/airplane/0066.png',\n",
       "  'cifar10/test/airplane/0700.png',\n",
       "  'cifar10/test/airplane/0728.png',\n",
       "  'cifar10/test/airplane/0847.png',\n",
       "  'cifar10/test/airplane/0853.png',\n",
       "  'cifar10/test/airplane/0660.png',\n",
       "  'cifar10/test/airplane/0106.png',\n",
       "  'cifar10/test/airplane/0674.png',\n",
       "  'cifar10/test/airplane/0884.png',\n",
       "  'cifar10/test/airplane/0648.png',\n",
       "  'cifar10/test/airplane/0890.png',\n",
       "  'cifar10/test/airplane/0489.png',\n",
       "  'cifar10/test/airplane/0304.png',\n",
       "  'cifar10/test/airplane/0462.png',\n",
       "  'cifar10/test/airplane/0476.png',\n",
       "  'cifar10/test/airplane/0310.png',\n",
       "  'cifar10/test/airplane/0338.png',\n",
       "  'cifar10/test/airplane/0339.png',\n",
       "  'cifar10/test/airplane/0477.png',\n",
       "  'cifar10/test/airplane/0311.png',\n",
       "  'cifar10/test/airplane/0305.png',\n",
       "  'cifar10/test/airplane/0463.png',\n",
       "  'cifar10/test/airplane/0488.png',\n",
       "  'cifar10/test/airplane/0891.png',\n",
       "  'cifar10/test/airplane/0649.png',\n",
       "  'cifar10/test/airplane/0885.png',\n",
       "  'cifar10/test/airplane/0675.png',\n",
       "  'cifar10/test/airplane/0661.png',\n",
       "  'cifar10/test/airplane/0107.png',\n",
       "  'cifar10/test/airplane/0852.png',\n",
       "  'cifar10/test/airplane/0846.png',\n",
       "  'cifar10/test/airplane/0729.png',\n",
       "  'cifar10/test/airplane/0067.png',\n",
       "  'cifar10/test/airplane/0701.png',\n",
       "  'cifar10/test/airplane/0715.png',\n",
       "  'cifar10/test/airplane/0073.png',\n",
       "  'cifar10/test/airplane/0098.png',\n",
       "  'cifar10/test/airplane/0926.png',\n",
       "  'cifar10/test/airplane/0932.png',\n",
       "  'cifar10/test/airplane/0259.png',\n",
       "  'cifar10/test/airplane/0503.png',\n",
       "  'cifar10/test/airplane/0265.png',\n",
       "  'cifar10/test/airplane/0517.png',\n",
       "  'cifar10/test/airplane/0249.png',\n",
       "  'cifar10/test/airplane/0513.png',\n",
       "  'cifar10/test/airplane/0275.png',\n",
       "  'cifar10/test/airplane/0261.png',\n",
       "  'cifar10/test/airplane/0507.png',\n",
       "  'cifar10/test/airplane/0088.png',\n",
       "  'cifar10/test/airplane/0936.png',\n",
       "  'cifar10/test/airplane/0922.png',\n",
       "  'cifar10/test/airplane/0739.png',\n",
       "  'cifar10/test/airplane/0077.png',\n",
       "  'cifar10/test/airplane/0711.png',\n",
       "  'cifar10/test/airplane/0705.png',\n",
       "  'cifar10/test/airplane/0063.png',\n",
       "  'cifar10/test/airplane/0842.png',\n",
       "  'cifar10/test/airplane/0856.png',\n",
       "  'cifar10/test/airplane/0659.png',\n",
       "  'cifar10/test/airplane/0881.png',\n",
       "  'cifar10/test/airplane/0895.png',\n",
       "  'cifar10/test/airplane/0103.png',\n",
       "  'cifar10/test/airplane/0665.png',\n",
       "  'cifar10/test/airplane/0671.png',\n",
       "  'cifar10/test/airplane/0117.png',\n",
       "  'cifar10/test/airplane/0498.png',\n",
       "  'cifar10/test/airplane/0329.png',\n",
       "  'cifar10/test/airplane/0467.png',\n",
       "  'cifar10/test/airplane/0301.png',\n",
       "  'cifar10/test/airplane/0315.png',\n",
       "  'cifar10/test/airplane/0473.png',\n",
       "  'cifar10/test/airplane/0314.png',\n",
       "  'cifar10/test/airplane/0472.png',\n",
       "  'cifar10/test/airplane/0466.png',\n",
       "  'cifar10/test/airplane/0300.png',\n",
       "  'cifar10/test/airplane/0499.png',\n",
       "  'cifar10/test/airplane/0670.png',\n",
       "  'cifar10/test/airplane/0116.png',\n",
       "  'cifar10/test/airplane/0102.png',\n",
       "  'cifar10/test/airplane/0664.png',\n",
       "  'cifar10/test/airplane/0894.png',\n",
       "  'cifar10/test/airplane/0880.png',\n",
       "  'cifar10/test/airplane/0857.png',\n",
       "  'cifar10/test/airplane/0843.png',\n",
       "  'cifar10/test/airplane/0704.png',\n",
       "  'cifar10/test/airplane/0062.png',\n",
       "  'cifar10/test/airplane/0076.png',\n",
       "  'cifar10/test/airplane/0710.png',\n",
       "  'cifar10/test/airplane/0738.png',\n",
       "  'cifar10/test/airplane/0923.png',\n",
       "  'cifar10/test/airplane/0089.png',\n",
       "  'cifar10/test/airplane/0937.png',\n",
       "  'cifar10/test/airplane/0260.png',\n",
       "  'cifar10/test/airplane/0506.png',\n",
       "  'cifar10/test/airplane/0512.png',\n",
       "  'cifar10/test/airplane/0274.png',\n",
       "  'cifar10/test/airplane/0248.png',\n",
       "  'cifar10/test/airplane/0289.png',\n",
       "  'cifar10/test/airplane/0538.png',\n",
       "  'cifar10/test/airplane/0504.png',\n",
       "  'cifar10/test/airplane/0262.png',\n",
       "  'cifar10/test/airplane/0276.png',\n",
       "  'cifar10/test/airplane/0510.png',\n",
       "  'cifar10/test/airplane/0921.png',\n",
       "  'cifar10/test/airplane/0935.png',\n",
       "  'cifar10/test/airplane/0909.png',\n",
       "  'cifar10/test/airplane/0048.png',\n",
       "  'cifar10/test/airplane/0060.png',\n",
       "  'cifar10/test/airplane/0706.png',\n",
       "  'cifar10/test/airplane/0712.png',\n",
       "  'cifar10/test/airplane/0074.png',\n",
       "  'cifar10/test/airplane/0841.png',\n",
       "  'cifar10/test/airplane/0699.png',\n",
       "  'cifar10/test/airplane/0869.png',\n",
       "  'cifar10/test/airplane/0128.png',\n",
       "  'cifar10/test/airplane/0896.png',\n",
       "  'cifar10/test/airplane/0882.png',\n",
       "  'cifar10/test/airplane/0114.png',\n",
       "  'cifar10/test/airplane/0672.png',\n",
       "  'cifar10/test/airplane/0666.png',\n",
       "  'cifar10/test/airplane/0100.png',\n",
       "  'cifar10/test/airplane/0458.png',\n",
       "  'cifar10/test/airplane/0470.png',\n",
       "  'cifar10/test/airplane/0316.png',\n",
       "  'cifar10/test/airplane/0302.png',\n",
       "  'cifar10/test/airplane/0464.png',\n",
       "  'cifar10/test/airplane/0303.png',\n",
       "  'cifar10/test/airplane/0465.png',\n",
       "  'cifar10/test/airplane/0317.png',\n",
       "  'cifar10/test/airplane/0459.png',\n",
       "  'cifar10/test/airplane/0667.png',\n",
       "  'cifar10/test/airplane/0101.png',\n",
       "  'cifar10/test/airplane/0115.png',\n",
       "  'cifar10/test/airplane/0673.png',\n",
       "  'cifar10/test/airplane/0883.png',\n",
       "  'cifar10/test/airplane/0897.png',\n",
       "  'cifar10/test/airplane/0868.png',\n",
       "  'cifar10/test/airplane/0698.png'],\n",
       " 'data': tensor([[[[-1.2433, -1.2591, -1.2433,  ..., -1.2433, -1.2433, -1.2433],\n",
       "           [-1.2274, -1.2433, -1.2433,  ..., -1.2433, -1.2433, -1.2433],\n",
       "           [-1.2274, -1.2274, -1.2274,  ..., -1.2433, -1.2433, -1.2274],\n",
       "           ...,\n",
       "           [-1.1163, -1.1321, -1.1321,  ..., -1.1321, -1.1321, -1.1321],\n",
       "           [-1.1163, -1.1321, -1.1321,  ..., -1.1321, -1.1321, -1.1321],\n",
       "           [-1.1321, -1.1480, -1.1321,  ..., -1.1321, -1.1321, -1.1321]],\n",
       " \n",
       "          [[-0.6114, -0.6275, -0.6275,  ..., -0.6275, -0.6275, -0.6275],\n",
       "           [-0.5953, -0.6114, -0.6114,  ..., -0.6114, -0.6114, -0.6114],\n",
       "           [-0.5953, -0.5953, -0.5792,  ..., -0.6114, -0.6114, -0.5953],\n",
       "           ...,\n",
       "           [-0.4664, -0.4825, -0.4825,  ..., -0.4825, -0.4825, -0.4825],\n",
       "           [-0.4664, -0.4825, -0.4825,  ..., -0.4825, -0.4825, -0.4825],\n",
       "           [-0.4825, -0.4986, -0.4986,  ..., -0.4986, -0.4986, -0.4986]],\n",
       " \n",
       "          [[ 0.2720,  0.2570,  0.2570,  ...,  0.2570,  0.2570,  0.2570],\n",
       "           [ 0.3020,  0.2720,  0.2720,  ...,  0.2720,  0.2720,  0.2720],\n",
       "           [ 0.3020,  0.2570,  0.2570,  ...,  0.2720,  0.2720,  0.2870],\n",
       "           ...,\n",
       "           [ 0.3619,  0.3319,  0.3319,  ...,  0.3319,  0.3319,  0.3319],\n",
       "           [ 0.3619,  0.3319,  0.3319,  ...,  0.3319,  0.3319,  0.3319],\n",
       "           [ 0.3319,  0.3169,  0.3169,  ...,  0.3169,  0.3169,  0.3169]]],\n",
       " \n",
       " \n",
       "         [[[ 1.9638,  1.9003,  1.8527,  ...,  1.5987,  1.5828,  1.5511],\n",
       "           [ 1.9480,  1.9162,  1.8686,  ...,  1.2811,  1.1541,  1.1383],\n",
       "           [ 1.9480,  1.9162,  1.9003,  ...,  1.4558,  1.1224,  0.7255],\n",
       "           ...,\n",
       "           [ 1.7416,  1.7416,  1.7416,  ...,  1.2335,  1.1859,  1.1383],\n",
       "           [ 1.7098,  1.6781,  1.7416,  ...,  1.2653,  1.2176,  1.1700],\n",
       "           [ 1.7098,  1.6781,  1.6781,  ...,  1.3129,  1.2811,  1.2176]],\n",
       " \n",
       "          [[ 2.0299,  1.9815,  1.9332,  ...,  1.3534,  1.4340,  1.4340],\n",
       "           [ 1.9976,  1.9654,  1.9171,  ...,  1.0636,  1.0313,  1.0475],\n",
       "           [ 1.9654,  1.9332,  1.9171,  ...,  1.2085,  0.9830,  0.5965],\n",
       "           ...,\n",
       "           [ 1.3534,  1.3696,  1.3696,  ...,  0.5804,  0.5804,  0.5643],\n",
       "           [ 1.3696,  1.3534,  1.4179,  ...,  0.5804,  0.5643,  0.5643],\n",
       "           [ 1.4018,  1.3696,  1.3857,  ...,  0.6126,  0.5965,  0.5804]],\n",
       " \n",
       "          [[ 1.9959,  1.9509,  1.9060,  ...,  1.2614,  1.4113,  1.4412],\n",
       "           [ 1.9509,  1.9060,  1.8760,  ...,  1.0365,  1.0815,  1.1264],\n",
       "           [ 1.8910,  1.8610,  1.8460,  ...,  1.1714,  1.0365,  0.7217],\n",
       "           ...,\n",
       "           [ 1.2314,  1.2014,  1.1714,  ...,  0.4219,  0.4069,  0.3769],\n",
       "           [ 1.2314,  1.1714,  1.2014,  ...,  0.4369,  0.4069,  0.3919],\n",
       "           [ 1.2464,  1.1864,  1.1564,  ...,  0.4668,  0.4369,  0.4219]]],\n",
       " \n",
       " \n",
       "         [[[ 1.0430,  1.0112,  1.0271,  ...,  0.9160,  0.9001,  0.8207],\n",
       "           [ 1.0906,  1.0430,  1.0430,  ...,  0.8683,  0.9001,  0.8207],\n",
       "           [ 1.1383,  1.0906,  1.0906,  ...,  0.8842,  0.9477,  0.8366],\n",
       "           ...,\n",
       "           [-0.4653, -0.5606, -0.4177,  ..., -0.3383, -0.4335, -0.4494],\n",
       "           [-0.5447, -0.5288, -0.4494,  ..., -0.3700, -0.4812, -0.4494],\n",
       "           [-0.4494, -0.4812, -0.4335,  ..., -0.4177, -0.3859, -0.4177]],\n",
       " \n",
       "          [[ 1.2890,  1.2568,  1.2729,  ...,  1.1280,  1.1119,  1.0313],\n",
       "           [ 1.3212,  1.2729,  1.2890,  ...,  1.0797,  1.1119,  1.0313],\n",
       "           [ 1.3534,  1.3051,  1.3051,  ...,  1.0958,  1.1602,  1.0475],\n",
       "           ...,\n",
       "           [-0.8690, -0.9496, -0.8207,  ..., -0.6919, -0.7724, -0.7885],\n",
       "           [-0.9496, -0.9335, -0.8368,  ..., -0.7080, -0.8207, -0.7885],\n",
       "           [-0.8046, -0.8368, -0.7885,  ..., -0.7402, -0.7241, -0.7402]],\n",
       " \n",
       "          [[ 1.6211,  1.5762,  1.6061,  ...,  1.3663,  1.3363,  1.2614],\n",
       "           [ 1.6361,  1.5762,  1.5912,  ...,  1.3213,  1.3513,  1.2763],\n",
       "           [ 1.6511,  1.6061,  1.6061,  ...,  1.3363,  1.3963,  1.2913],\n",
       "           ...,\n",
       "           [-1.0472, -1.1222, -1.0022,  ..., -0.9723, -1.0472, -1.0622],\n",
       "           [-1.1222, -1.1072, -1.0172,  ..., -1.0022, -1.1072, -1.0772],\n",
       "           [-1.0472, -1.0772, -1.0322,  ..., -1.0922, -1.0472, -1.0772]]],\n",
       " \n",
       " \n",
       "         ...,\n",
       " \n",
       " \n",
       "         [[[ 0.0269, -0.0208, -0.0525,  ...,  0.1221,  0.1698,  0.3127],\n",
       "           [ 0.0269, -0.0208, -0.0525,  ...,  0.0428,  0.0745,  0.2015],\n",
       "           [ 0.0110, -0.0366, -0.0525,  ...,  0.0269,  0.0269,  0.1380],\n",
       "           ...,\n",
       "           [ 0.4556,  0.4238,  0.4873,  ...,  0.5349,  0.5191,  0.6143],\n",
       "           [ 0.4238,  0.4079,  0.4397,  ...,  0.5032,  0.4873,  0.5667],\n",
       "           [ 0.4873,  0.4556,  0.4556,  ...,  0.4873,  0.4556,  0.5508]],\n",
       " \n",
       "          [[ 0.5965,  0.5482,  0.5643,  ...,  0.6609,  0.6609,  0.6609],\n",
       "           [ 0.6126,  0.5643,  0.5804,  ...,  0.6287,  0.6287,  0.6609],\n",
       "           [ 0.6126,  0.5643,  0.5965,  ...,  0.6609,  0.6609,  0.6931],\n",
       "           ...,\n",
       "           [ 0.8220,  0.7737,  0.8381,  ...,  0.9347,  0.9347,  0.9830],\n",
       "           [ 0.8059,  0.7576,  0.7898,  ...,  0.9508,  0.9347,  0.9669],\n",
       "           [ 0.8059,  0.7576,  0.7415,  ...,  0.8703,  0.8703,  0.9025]],\n",
       " \n",
       "          [[ 1.4113,  1.4113,  1.4113,  ...,  1.3213,  1.3813,  1.4263],\n",
       "           [ 1.4862,  1.5012,  1.5012,  ...,  1.4113,  1.4862,  1.5612],\n",
       "           [ 1.5312,  1.5462,  1.5462,  ...,  1.3813,  1.4562,  1.5462],\n",
       "           ...,\n",
       "           [ 1.3663,  1.3963,  1.4412,  ...,  1.5612,  1.6361,  1.7261],\n",
       "           [ 1.4263,  1.4562,  1.4862,  ...,  1.5762,  1.6361,  1.7261],\n",
       "           [ 1.3063,  1.3363,  1.3213,  ...,  1.4862,  1.5462,  1.6361]]],\n",
       " \n",
       " \n",
       "         [[[ 1.9003,  1.8368,  1.8527,  ...,  1.8368,  1.8368,  1.9003],\n",
       "           [ 1.9480,  1.8845,  1.8845,  ...,  1.8845,  1.8845,  1.9480],\n",
       "           [ 1.9162,  1.8527,  1.8368,  ...,  1.8527,  1.8527,  1.9162],\n",
       "           ...,\n",
       "           [ 1.1383,  1.0747,  1.0747,  ...,  0.7255,  0.6461,  0.6937],\n",
       "           [ 0.6143,  0.5667,  0.5667,  ...,  0.4238,  0.4397,  0.5032],\n",
       "           [ 0.4556,  0.4397,  0.4397,  ...,  0.5667,  0.5667,  0.6143]],\n",
       " \n",
       "          [[ 1.9654,  1.9010,  1.9171,  ...,  1.9010,  1.9010,  1.9654],\n",
       "           [ 2.0138,  1.9493,  1.9493,  ...,  1.9493,  1.9493,  2.0138],\n",
       "           [ 1.9815,  1.9171,  1.9010,  ...,  1.9171,  1.9171,  1.9815],\n",
       "           ...,\n",
       "           [ 1.1763,  1.1119,  1.1119,  ...,  0.7898,  0.7092,  0.7576],\n",
       "           [ 0.6609,  0.6126,  0.6287,  ...,  0.4838,  0.4999,  0.5643],\n",
       "           [ 0.5643,  0.5482,  0.5482,  ...,  0.6287,  0.6287,  0.6770]],\n",
       " \n",
       "          [[ 1.9659,  1.9060,  1.9209,  ...,  1.9060,  1.9060,  1.9659],\n",
       "           [ 2.0109,  1.9509,  1.9509,  ...,  1.9509,  1.9509,  2.0109],\n",
       "           [ 1.9809,  1.9209,  1.9060,  ...,  1.9209,  1.9209,  1.9809],\n",
       "           ...,\n",
       "           [ 1.1564,  1.0965,  1.0965,  ...,  0.9016,  0.8266,  0.8716],\n",
       "           [ 0.7217,  0.6767,  0.6917,  ...,  0.6168,  0.6168,  0.6917],\n",
       "           [ 0.6767,  0.6617,  0.6617,  ...,  0.7517,  0.7517,  0.7966]]],\n",
       " \n",
       " \n",
       "         [[[ 0.8366,  0.8207,  0.8207,  ...,  0.8366,  0.8366,  0.8525],\n",
       "           [ 0.8525,  0.8366,  0.8366,  ...,  0.8525,  0.8525,  0.8525],\n",
       "           [ 0.8207,  0.8048,  0.8207,  ...,  0.8366,  0.8366,  0.8366],\n",
       "           ...,\n",
       "           [-0.0684,  0.5349,  0.7096,  ...,  0.7413,  0.7413,  0.7413],\n",
       "           [ 0.6620,  0.6937,  0.7096,  ...,  0.7413,  0.7413,  0.7413],\n",
       "           [ 0.6778,  0.6620,  0.6778,  ...,  0.7255,  0.7255,  0.7255]],\n",
       " \n",
       "          [[ 0.7254,  0.7092,  0.7092,  ...,  0.7254,  0.7254,  0.7415],\n",
       "           [ 0.7415,  0.7254,  0.7254,  ...,  0.7415,  0.7415,  0.7415],\n",
       "           [ 0.7092,  0.6931,  0.7092,  ...,  0.7254,  0.7254,  0.7254],\n",
       "           ...,\n",
       "           [-0.2087,  0.4033,  0.5804,  ...,  0.5965,  0.5965,  0.5965],\n",
       "           [ 0.5482,  0.5643,  0.5804,  ...,  0.6126,  0.5965,  0.5965],\n",
       "           [ 0.5643,  0.5482,  0.5643,  ...,  0.5804,  0.5804,  0.5804]],\n",
       " \n",
       "          [[ 0.7966,  0.7817,  0.7817,  ...,  0.7966,  0.7966,  0.8116],\n",
       "           [ 0.8116,  0.7966,  0.7966,  ...,  0.8116,  0.8116,  0.8116],\n",
       "           [ 0.7817,  0.7667,  0.7817,  ...,  0.7966,  0.7966,  0.7966],\n",
       "           ...,\n",
       "           [-0.1478,  0.4668,  0.6617,  ...,  0.6917,  0.6917,  0.6917],\n",
       "           [ 0.6018,  0.6317,  0.6467,  ...,  0.6917,  0.6917,  0.6917],\n",
       "           [ 0.6317,  0.6168,  0.6317,  ...,  0.6617,  0.6767,  0.6767]]]]),\n",
       " 'data_aux': tensor([[[[-1.2433, -1.2591, -1.2433,  ..., -1.2433, -1.2433, -1.2433],\n",
       "           [-1.2274, -1.2433, -1.2433,  ..., -1.2433, -1.2433, -1.2433],\n",
       "           [-1.2274, -1.2274, -1.2274,  ..., -1.2433, -1.2433, -1.2274],\n",
       "           ...,\n",
       "           [-1.1163, -1.1321, -1.1321,  ..., -1.1321, -1.1321, -1.1321],\n",
       "           [-1.1163, -1.1321, -1.1321,  ..., -1.1321, -1.1321, -1.1321],\n",
       "           [-1.1321, -1.1480, -1.1321,  ..., -1.1321, -1.1321, -1.1321]],\n",
       " \n",
       "          [[-0.6114, -0.6275, -0.6275,  ..., -0.6275, -0.6275, -0.6275],\n",
       "           [-0.5953, -0.6114, -0.6114,  ..., -0.6114, -0.6114, -0.6114],\n",
       "           [-0.5953, -0.5953, -0.5792,  ..., -0.6114, -0.6114, -0.5953],\n",
       "           ...,\n",
       "           [-0.4664, -0.4825, -0.4825,  ..., -0.4825, -0.4825, -0.4825],\n",
       "           [-0.4664, -0.4825, -0.4825,  ..., -0.4825, -0.4825, -0.4825],\n",
       "           [-0.4825, -0.4986, -0.4986,  ..., -0.4986, -0.4986, -0.4986]],\n",
       " \n",
       "          [[ 0.2720,  0.2570,  0.2570,  ...,  0.2570,  0.2570,  0.2570],\n",
       "           [ 0.3020,  0.2720,  0.2720,  ...,  0.2720,  0.2720,  0.2720],\n",
       "           [ 0.3020,  0.2570,  0.2570,  ...,  0.2720,  0.2720,  0.2870],\n",
       "           ...,\n",
       "           [ 0.3619,  0.3319,  0.3319,  ...,  0.3319,  0.3319,  0.3319],\n",
       "           [ 0.3619,  0.3319,  0.3319,  ...,  0.3319,  0.3319,  0.3319],\n",
       "           [ 0.3319,  0.3169,  0.3169,  ...,  0.3169,  0.3169,  0.3169]]],\n",
       " \n",
       " \n",
       "         [[[ 1.9638,  1.9003,  1.8527,  ...,  1.5987,  1.5828,  1.5511],\n",
       "           [ 1.9480,  1.9162,  1.8686,  ...,  1.2811,  1.1541,  1.1383],\n",
       "           [ 1.9480,  1.9162,  1.9003,  ...,  1.4558,  1.1224,  0.7255],\n",
       "           ...,\n",
       "           [ 1.7416,  1.7416,  1.7416,  ...,  1.2335,  1.1859,  1.1383],\n",
       "           [ 1.7098,  1.6781,  1.7416,  ...,  1.2653,  1.2176,  1.1700],\n",
       "           [ 1.7098,  1.6781,  1.6781,  ...,  1.3129,  1.2811,  1.2176]],\n",
       " \n",
       "          [[ 2.0299,  1.9815,  1.9332,  ...,  1.3534,  1.4340,  1.4340],\n",
       "           [ 1.9976,  1.9654,  1.9171,  ...,  1.0636,  1.0313,  1.0475],\n",
       "           [ 1.9654,  1.9332,  1.9171,  ...,  1.2085,  0.9830,  0.5965],\n",
       "           ...,\n",
       "           [ 1.3534,  1.3696,  1.3696,  ...,  0.5804,  0.5804,  0.5643],\n",
       "           [ 1.3696,  1.3534,  1.4179,  ...,  0.5804,  0.5643,  0.5643],\n",
       "           [ 1.4018,  1.3696,  1.3857,  ...,  0.6126,  0.5965,  0.5804]],\n",
       " \n",
       "          [[ 1.9959,  1.9509,  1.9060,  ...,  1.2614,  1.4113,  1.4412],\n",
       "           [ 1.9509,  1.9060,  1.8760,  ...,  1.0365,  1.0815,  1.1264],\n",
       "           [ 1.8910,  1.8610,  1.8460,  ...,  1.1714,  1.0365,  0.7217],\n",
       "           ...,\n",
       "           [ 1.2314,  1.2014,  1.1714,  ...,  0.4219,  0.4069,  0.3769],\n",
       "           [ 1.2314,  1.1714,  1.2014,  ...,  0.4369,  0.4069,  0.3919],\n",
       "           [ 1.2464,  1.1864,  1.1564,  ...,  0.4668,  0.4369,  0.4219]]],\n",
       " \n",
       " \n",
       "         [[[ 1.0430,  1.0112,  1.0271,  ...,  0.9160,  0.9001,  0.8207],\n",
       "           [ 1.0906,  1.0430,  1.0430,  ...,  0.8683,  0.9001,  0.8207],\n",
       "           [ 1.1383,  1.0906,  1.0906,  ...,  0.8842,  0.9477,  0.8366],\n",
       "           ...,\n",
       "           [-0.4653, -0.5606, -0.4177,  ..., -0.3383, -0.4335, -0.4494],\n",
       "           [-0.5447, -0.5288, -0.4494,  ..., -0.3700, -0.4812, -0.4494],\n",
       "           [-0.4494, -0.4812, -0.4335,  ..., -0.4177, -0.3859, -0.4177]],\n",
       " \n",
       "          [[ 1.2890,  1.2568,  1.2729,  ...,  1.1280,  1.1119,  1.0313],\n",
       "           [ 1.3212,  1.2729,  1.2890,  ...,  1.0797,  1.1119,  1.0313],\n",
       "           [ 1.3534,  1.3051,  1.3051,  ...,  1.0958,  1.1602,  1.0475],\n",
       "           ...,\n",
       "           [-0.8690, -0.9496, -0.8207,  ..., -0.6919, -0.7724, -0.7885],\n",
       "           [-0.9496, -0.9335, -0.8368,  ..., -0.7080, -0.8207, -0.7885],\n",
       "           [-0.8046, -0.8368, -0.7885,  ..., -0.7402, -0.7241, -0.7402]],\n",
       " \n",
       "          [[ 1.6211,  1.5762,  1.6061,  ...,  1.3663,  1.3363,  1.2614],\n",
       "           [ 1.6361,  1.5762,  1.5912,  ...,  1.3213,  1.3513,  1.2763],\n",
       "           [ 1.6511,  1.6061,  1.6061,  ...,  1.3363,  1.3963,  1.2913],\n",
       "           ...,\n",
       "           [-1.0472, -1.1222, -1.0022,  ..., -0.9723, -1.0472, -1.0622],\n",
       "           [-1.1222, -1.1072, -1.0172,  ..., -1.0022, -1.1072, -1.0772],\n",
       "           [-1.0472, -1.0772, -1.0322,  ..., -1.0922, -1.0472, -1.0772]]],\n",
       " \n",
       " \n",
       "         ...,\n",
       " \n",
       " \n",
       "         [[[ 0.0269, -0.0208, -0.0525,  ...,  0.1221,  0.1698,  0.3127],\n",
       "           [ 0.0269, -0.0208, -0.0525,  ...,  0.0428,  0.0745,  0.2015],\n",
       "           [ 0.0110, -0.0366, -0.0525,  ...,  0.0269,  0.0269,  0.1380],\n",
       "           ...,\n",
       "           [ 0.4556,  0.4238,  0.4873,  ...,  0.5349,  0.5191,  0.6143],\n",
       "           [ 0.4238,  0.4079,  0.4397,  ...,  0.5032,  0.4873,  0.5667],\n",
       "           [ 0.4873,  0.4556,  0.4556,  ...,  0.4873,  0.4556,  0.5508]],\n",
       " \n",
       "          [[ 0.5965,  0.5482,  0.5643,  ...,  0.6609,  0.6609,  0.6609],\n",
       "           [ 0.6126,  0.5643,  0.5804,  ...,  0.6287,  0.6287,  0.6609],\n",
       "           [ 0.6126,  0.5643,  0.5965,  ...,  0.6609,  0.6609,  0.6931],\n",
       "           ...,\n",
       "           [ 0.8220,  0.7737,  0.8381,  ...,  0.9347,  0.9347,  0.9830],\n",
       "           [ 0.8059,  0.7576,  0.7898,  ...,  0.9508,  0.9347,  0.9669],\n",
       "           [ 0.8059,  0.7576,  0.7415,  ...,  0.8703,  0.8703,  0.9025]],\n",
       " \n",
       "          [[ 1.4113,  1.4113,  1.4113,  ...,  1.3213,  1.3813,  1.4263],\n",
       "           [ 1.4862,  1.5012,  1.5012,  ...,  1.4113,  1.4862,  1.5612],\n",
       "           [ 1.5312,  1.5462,  1.5462,  ...,  1.3813,  1.4562,  1.5462],\n",
       "           ...,\n",
       "           [ 1.3663,  1.3963,  1.4412,  ...,  1.5612,  1.6361,  1.7261],\n",
       "           [ 1.4263,  1.4562,  1.4862,  ...,  1.5762,  1.6361,  1.7261],\n",
       "           [ 1.3063,  1.3363,  1.3213,  ...,  1.4862,  1.5462,  1.6361]]],\n",
       " \n",
       " \n",
       "         [[[ 1.9003,  1.8368,  1.8527,  ...,  1.8368,  1.8368,  1.9003],\n",
       "           [ 1.9480,  1.8845,  1.8845,  ...,  1.8845,  1.8845,  1.9480],\n",
       "           [ 1.9162,  1.8527,  1.8368,  ...,  1.8527,  1.8527,  1.9162],\n",
       "           ...,\n",
       "           [ 1.1383,  1.0747,  1.0747,  ...,  0.7255,  0.6461,  0.6937],\n",
       "           [ 0.6143,  0.5667,  0.5667,  ...,  0.4238,  0.4397,  0.5032],\n",
       "           [ 0.4556,  0.4397,  0.4397,  ...,  0.5667,  0.5667,  0.6143]],\n",
       " \n",
       "          [[ 1.9654,  1.9010,  1.9171,  ...,  1.9010,  1.9010,  1.9654],\n",
       "           [ 2.0138,  1.9493,  1.9493,  ...,  1.9493,  1.9493,  2.0138],\n",
       "           [ 1.9815,  1.9171,  1.9010,  ...,  1.9171,  1.9171,  1.9815],\n",
       "           ...,\n",
       "           [ 1.1763,  1.1119,  1.1119,  ...,  0.7898,  0.7092,  0.7576],\n",
       "           [ 0.6609,  0.6126,  0.6287,  ...,  0.4838,  0.4999,  0.5643],\n",
       "           [ 0.5643,  0.5482,  0.5482,  ...,  0.6287,  0.6287,  0.6770]],\n",
       " \n",
       "          [[ 1.9659,  1.9060,  1.9209,  ...,  1.9060,  1.9060,  1.9659],\n",
       "           [ 2.0109,  1.9509,  1.9509,  ...,  1.9509,  1.9509,  2.0109],\n",
       "           [ 1.9809,  1.9209,  1.9060,  ...,  1.9209,  1.9209,  1.9809],\n",
       "           ...,\n",
       "           [ 1.1564,  1.0965,  1.0965,  ...,  0.9016,  0.8266,  0.8716],\n",
       "           [ 0.7217,  0.6767,  0.6917,  ...,  0.6168,  0.6168,  0.6917],\n",
       "           [ 0.6767,  0.6617,  0.6617,  ...,  0.7517,  0.7517,  0.7966]]],\n",
       " \n",
       " \n",
       "         [[[ 0.8366,  0.8207,  0.8207,  ...,  0.8366,  0.8366,  0.8525],\n",
       "           [ 0.8525,  0.8366,  0.8366,  ...,  0.8525,  0.8525,  0.8525],\n",
       "           [ 0.8207,  0.8048,  0.8207,  ...,  0.8366,  0.8366,  0.8366],\n",
       "           ...,\n",
       "           [-0.0684,  0.5349,  0.7096,  ...,  0.7413,  0.7413,  0.7413],\n",
       "           [ 0.6620,  0.6937,  0.7096,  ...,  0.7413,  0.7413,  0.7413],\n",
       "           [ 0.6778,  0.6620,  0.6778,  ...,  0.7255,  0.7255,  0.7255]],\n",
       " \n",
       "          [[ 0.7254,  0.7092,  0.7092,  ...,  0.7254,  0.7254,  0.7415],\n",
       "           [ 0.7415,  0.7254,  0.7254,  ...,  0.7415,  0.7415,  0.7415],\n",
       "           [ 0.7092,  0.6931,  0.7092,  ...,  0.7254,  0.7254,  0.7254],\n",
       "           ...,\n",
       "           [-0.2087,  0.4033,  0.5804,  ...,  0.5965,  0.5965,  0.5965],\n",
       "           [ 0.5482,  0.5643,  0.5804,  ...,  0.6126,  0.5965,  0.5965],\n",
       "           [ 0.5643,  0.5482,  0.5643,  ...,  0.5804,  0.5804,  0.5804]],\n",
       " \n",
       "          [[ 0.7966,  0.7817,  0.7817,  ...,  0.7966,  0.7966,  0.8116],\n",
       "           [ 0.8116,  0.7966,  0.7966,  ...,  0.8116,  0.8116,  0.8116],\n",
       "           [ 0.7817,  0.7667,  0.7817,  ...,  0.7966,  0.7966,  0.7966],\n",
       "           ...,\n",
       "           [-0.1478,  0.4668,  0.6617,  ...,  0.6917,  0.6917,  0.6917],\n",
       "           [ 0.6018,  0.6317,  0.6467,  ...,  0.6917,  0.6917,  0.6917],\n",
       "           [ 0.6317,  0.6168,  0.6317,  ...,  0.6617,  0.6767,  0.6767]]]]),\n",
       " 'label': tensor([0, 0, 0, 0, 0, 0, 0, 0, 0, 0, 0, 0, 0, 0, 0, 0, 0, 0, 0, 0, 0, 0, 0, 0,\n",
       "         0, 0, 0, 0, 0, 0, 0, 0, 0, 0, 0, 0, 0, 0, 0, 0, 0, 0, 0, 0, 0, 0, 0, 0,\n",
       "         0, 0, 0, 0, 0, 0, 0, 0, 0, 0, 0, 0, 0, 0, 0, 0, 0, 0, 0, 0, 0, 0, 0, 0,\n",
       "         0, 0, 0, 0, 0, 0, 0, 0, 0, 0, 0, 0, 0, 0, 0, 0, 0, 0, 0, 0, 0, 0, 0, 0,\n",
       "         0, 0, 0, 0, 0, 0, 0, 0, 0, 0, 0, 0, 0, 0, 0, 0, 0, 0, 0, 0, 0, 0, 0, 0,\n",
       "         0, 0, 0, 0, 0, 0, 0, 0, 0, 0, 0, 0, 0, 0, 0, 0, 0, 0, 0, 0, 0, 0, 0, 0,\n",
       "         0, 0, 0, 0, 0, 0, 0, 0, 0, 0, 0, 0, 0, 0, 0, 0, 0, 0, 0, 0, 0, 0, 0, 0,\n",
       "         0, 0, 0, 0, 0, 0, 0, 0, 0, 0, 0, 0, 0, 0, 0, 0, 0, 0, 0, 0, 0, 0, 0, 0,\n",
       "         0, 0, 0, 0, 0, 0, 0, 0]),\n",
       " 'soft_label': tensor([[1., 0., 0.,  ..., 0., 0., 0.],\n",
       "         [1., 0., 0.,  ..., 0., 0., 0.],\n",
       "         [1., 0., 0.,  ..., 0., 0., 0.],\n",
       "         ...,\n",
       "         [1., 0., 0.,  ..., 0., 0., 0.],\n",
       "         [1., 0., 0.,  ..., 0., 0., 0.],\n",
       "         [1., 0., 0.,  ..., 0., 0., 0.]]),\n",
       " 'index': tensor([  0,   1,   2,   3,   4,   5,   6,   7,   8,   9,  10,  11,  12,  13,\n",
       "          14,  15,  16,  17,  18,  19,  20,  21,  22,  23,  24,  25,  26,  27,\n",
       "          28,  29,  30,  31,  32,  33,  34,  35,  36,  37,  38,  39,  40,  41,\n",
       "          42,  43,  44,  45,  46,  47,  48,  49,  50,  51,  52,  53,  54,  55,\n",
       "          56,  57,  58,  59,  60,  61,  62,  63,  64,  65,  66,  67,  68,  69,\n",
       "          70,  71,  72,  73,  74,  75,  76,  77,  78,  79,  80,  81,  82,  83,\n",
       "          84,  85,  86,  87,  88,  89,  90,  91,  92,  93,  94,  95,  96,  97,\n",
       "          98,  99, 100, 101, 102, 103, 104, 105, 106, 107, 108, 109, 110, 111,\n",
       "         112, 113, 114, 115, 116, 117, 118, 119, 120, 121, 122, 123, 124, 125,\n",
       "         126, 127, 128, 129, 130, 131, 132, 133, 134, 135, 136, 137, 138, 139,\n",
       "         140, 141, 142, 143, 144, 145, 146, 147, 148, 149, 150, 151, 152, 153,\n",
       "         154, 155, 156, 157, 158, 159, 160, 161, 162, 163, 164, 165, 166, 167,\n",
       "         168, 169, 170, 171, 172, 173, 174, 175, 176, 177, 178, 179, 180, 181,\n",
       "         182, 183, 184, 185, 186, 187, 188, 189, 190, 191, 192, 193, 194, 195,\n",
       "         196, 197, 198, 199]),\n",
       " 'pseudo': tensor([0, 0, 0, 0, 0, 0, 0, 0, 0, 0, 0, 0, 0, 0, 0, 0, 0, 0, 0, 0, 0, 0, 0, 0,\n",
       "         0, 0, 0, 0, 0, 0, 0, 0, 0, 0, 0, 0, 0, 0, 0, 0, 0, 0, 0, 0, 0, 0, 0, 0,\n",
       "         0, 0, 0, 0, 0, 0, 0, 0, 0, 0, 0, 0, 0, 0, 0, 0, 0, 0, 0, 0, 0, 0, 0, 0,\n",
       "         0, 0, 0, 0, 0, 0, 0, 0, 0, 0, 0, 0, 0, 0, 0, 0, 0, 0, 0, 0, 0, 0, 0, 0,\n",
       "         0, 0, 0, 0, 0, 0, 0, 0, 0, 0, 0, 0, 0, 0, 0, 0, 0, 0, 0, 0, 0, 0, 0, 0,\n",
       "         0, 0, 0, 0, 0, 0, 0, 0, 0, 0, 0, 0, 0, 0, 0, 0, 0, 0, 0, 0, 0, 0, 0, 0,\n",
       "         0, 0, 0, 0, 0, 0, 0, 0, 0, 0, 0, 0, 0, 0, 0, 0, 0, 0, 0, 0, 0, 0, 0, 0,\n",
       "         0, 0, 0, 0, 0, 0, 0, 0, 0, 0, 0, 0, 0, 0, 0, 0, 0, 0, 0, 0, 0, 0, 0, 0,\n",
       "         0, 0, 0, 0, 0, 0, 0, 0])}"
      ]
     },
     "execution_count": 14,
     "metadata": {},
     "output_type": "execute_result"
    }
   ],
   "source": [
    "datas"
   ]
  }
 ],
 "metadata": {
  "kernelspec": {
   "display_name": "Python 3 (ipykernel)",
   "language": "python",
   "name": "python3"
  },
  "language_info": {
   "codemirror_mode": {
    "name": "ipython",
    "version": 3
   },
   "file_extension": ".py",
   "mimetype": "text/x-python",
   "name": "python",
   "nbconvert_exporter": "python",
   "pygments_lexer": "ipython3",
   "version": "3.11.7"
  }
 },
 "nbformat": 4,
 "nbformat_minor": 5
}
